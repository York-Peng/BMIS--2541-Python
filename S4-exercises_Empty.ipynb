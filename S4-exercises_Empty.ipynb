{
 "cells": [
  {
   "cell_type": "markdown",
   "metadata": {
    "id": "FDyY3KK6g2ph"
   },
   "source": [
    "<a id='section_id0'></a>\n",
    "# BMIS2542-Data Programming Essentials *with Python*\n",
    "##### Katz Graduate School of Business\n",
    "## Session 4 - Exploring Data: Exercise Answers\n",
    "\n",
    "<font color=\"#740202\">**List of Session-5 Exercises:**</font>\n",
    "\n",
    "(1) [Importing and checking data](#section_id-ex1), (2) [Anscombe's quartet](#section_id-ex2), (3) [Choropleth map](#section_id-ex3)\n",
    "***"
   ]
  },
  {
   "cell_type": "code",
   "execution_count": null,
   "metadata": {
    "colab": {
     "base_uri": "https://localhost:8080/"
    },
    "executionInfo": {
     "elapsed": 1436,
     "status": "ok",
     "timestamp": 1678758088582,
     "user": {
      "displayName": "manmohan aseri",
      "userId": "06833916593206174696"
     },
     "user_tz": 240
    },
    "id": "0Ost_iJgg6Wa",
    "outputId": "1225a499-3c8b-47e0-c09e-5090c14a2b9a"
   },
   "outputs": [
    {
     "name": "stdout",
     "output_type": "stream",
     "text": [
      "Drive already mounted at /content/drive; to attempt to forcibly remount, call drive.mount(\"/content/drive\", force_remount=True).\n"
     ]
    }
   ],
   "source": [
    "from google.colab import drive\n",
    "drive.mount('/content/drive')"
   ]
  },
  {
   "cell_type": "markdown",
   "metadata": {
    "id": "_XjWXe-eg2pj"
   },
   "source": [
    "The file `anscombe.csv` contains information on four data sets known as [Anscombe's Quartet](https://en.wikipedia.org/wiki/Anscombe%27s_quartet)."
   ]
  },
  {
   "cell_type": "markdown",
   "metadata": {
    "id": "COedGHVmg2pj"
   },
   "source": [
    "<div class=\"alert alert-block alert-info\"><b>Takeaway:</b>\n",
    "<ul>\n",
    "<li> The four datasets appear identical when examined using descriptive statistics, but they vary considerably in their distributional properties.</li>\n",
    "<li> Recall our definition of machine learning is discovering data-generatig functions. These four data-generating functions are different from each other.</li>\n",
    "<li>Be cautious about drawing inferences from aggregated, descriptive statistics.</li>\n",
    "</ul>\n",
    "</div>"
   ]
  },
  {
   "cell_type": "markdown",
   "metadata": {
    "id": "pjSizEMqg2pj"
   },
   "source": [
    "***\n",
    "<a id='section_id-ex1'></a>\n",
    "### <span style=\"background-color:#CCFFCC\">Class Exercise-1: Anscombe setup</span>\n",
    "* Insert a new markdown cell in the notebook and type in the header \"Exercise-1\".\n",
    "* Use the `anscombe.csv` file for this exercise. \n",
    "* Import the dataset as a pandas dataframe and check it out (shape, info, summary stats, etc.)\n",
    "***\n",
    "<div style=\"text-align: right\"> <a href='#section_id0'>Back to top of Notebook</a></div>"
   ]
  },
  {
   "cell_type": "markdown",
   "metadata": {
    "id": "Xd8hFPm5g2pm"
   },
   "source": [
    "***\n",
    "<a id='section_id-ex2'></a>\n",
    "### <span style=\"background-color:#CCFFCC\">Class Exercise-2: Anscombe visualization</span>\n",
    "* Insert a new markdown cell in the notebook and type in the header \"Exercise-2\".\n",
    "* Continue with the `anscombe` data for this exercise. \n",
    "* Create four scatter plots with each showing a plot of y_1 and x_1, y_2 and x_2, y_3 and x_3, y_4 and x_4. \n",
    "> Hint: Use sns.scatterplot()\n",
    "* Try out the other plots with the same data: distplot, relplot, pairplot. \n",
    "> Hint: Use sns.displot(), sns.relplot(), sns.pairplot().\n",
    "***\n",
    "<div style=\"text-align: right\"> <a href='#section_id0'>Back to top of Notebook</a></div>"
   ]
  },
  {
   "cell_type": "markdown",
   "metadata": {
    "id": "q7IP9oqBg2pn"
   },
   "source": [
    "***\n",
    "<a id='section_id-ex3'></a>\n",
    "### <span style=\"background-color:#CCFFCC\">Class Exercise-3: Choropleth maps</span>\n",
    "* Insert a new markdown cell in the notebook and type in the header \"Exercise-2\".\n",
    "* Continue with the `worlddata` example we used above for this exercise. \n",
    "* Pick any variable of your choice and develop a choropleth map (similar to the female life expectancy at birth example).\n",
    "***\n",
    "<div style=\"text-align: right\"> <a href='#section_id0'>Back to top of Notebook</a></div>"
   ]
  }
 ],
 "metadata": {
  "colab": {
   "provenance": []
  },
  "kernelspec": {
   "display_name": "Python 3 (ipykernel)",
   "language": "python",
   "name": "python3"
  },
  "language_info": {
   "codemirror_mode": {
    "name": "ipython",
    "version": 3
   },
   "file_extension": ".py",
   "mimetype": "text/x-python",
   "name": "python",
   "nbconvert_exporter": "python",
   "pygments_lexer": "ipython3",
   "version": "3.10.12"
  },
  "toc": {
   "base_numbering": 1,
   "nav_menu": {},
   "number_sections": true,
   "sideBar": true,
   "skip_h1_title": false,
   "title_cell": "Table of Contents",
   "title_sidebar": "Contents",
   "toc_cell": false,
   "toc_position": {},
   "toc_section_display": true,
   "toc_window_display": false
  }
 },
 "nbformat": 4,
 "nbformat_minor": 1
}
