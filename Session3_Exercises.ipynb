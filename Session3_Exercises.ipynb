{
 "cells": [
  {
   "cell_type": "markdown",
   "metadata": {
    "id": "acDuzAAsBtP6"
   },
   "source": [
    "<a id='section_id0'></a>\n",
    "# BMIS-2542: Data Programming Essentials *with Python*\n",
    "##### Katz Graduate School of Business, University of Pittsburgh\n",
    "\n",
    "\n",
    "## Session 3 Exercises\n",
    "\n",
    "<font color=\"#740202\">**List of Session-3 Exercises:**</font>\n",
    "\n",
    "(1) [Combining data](#section_id-ex1), (2) [Date stuff](#section_id-ex2), (3) [Missing values](#section_id-ex3), (4) [Categorization](#section_id-ex4), (5) [Ranking](#section_id-ex5), and (6) [Pivot/Crosstabs](#section_id-ex6)\n",
    "***"
   ]
  },
  {
   "cell_type": "code",
   "execution_count": null,
   "metadata": {
    "id": "hRT0TwheBtP-"
   },
   "outputs": [],
   "source": [
    "# load required modules\n",
    "import pandas as pd\n",
    "import numpy as np\n",
    "import datetime"
   ]
  },
  {
   "cell_type": "markdown",
   "metadata": {
    "id": "vVKJ6nD5BtP_"
   },
   "source": [
    "***\n",
    "<a id='section_id-ex1'></a>\n",
    "### <span style=\"background-color:#CCFFCC\">Class Exercise-1: Combining DataFrames</span>\n",
    "* Insert a new markdown cell in the notebook and type in the header \"Answer Exercise-1\".\n",
    "* Use the dataframes in the example below. Combine the dataframes in a way to display the answers to the following questions:\n",
    "    * How many shares of S1 does Anne hold?\n",
    "    * How many shares of Yahoo does John hold?\n",
    "> Hint: Use pd.merge() and merge the threee dataframes\n",
    "***\n",
    "<div style=\"text-align: right\"> <a href='#section_id0'>Back to top of Notebook</a></div>"
   ]
  },
  {
   "cell_type": "code",
   "execution_count": null,
   "metadata": {
    "id": "QPfaGgyHBtQA"
   },
   "outputs": [],
   "source": [
    "dfInvestors = pd.DataFrame({'INo':['I1', 'I2', 'I3'],'IName':['Anne', 'John', 'Elizabeth'],'PhoneNo':['412-456-4567', '585-673-4572', '763-567-8953']})\n",
    "dfSecurities =  pd.DataFrame({'SNo':['S1', 'S2', 'S3', 'S4', 'S5', 'S6'], 'SName':['Microsoft', 'Kodak', 'IBM','Xerox', 'Amazon', 'Yahoo'], 'Price':[78, 45, 68, 123, 34,78]})\n",
    "dfHoldings = pd.DataFrame({'INo':['I1','I1','I1','I1','I2','I2','I3','I3','I3'],'SNo':['S1','S2','S3','S4','S2','S6','S1','S3','S4'],'Qty':[500, 2000, 90,200,917,324,1000,346,780]})"
   ]
  },
  {
   "cell_type": "markdown",
   "metadata": {
    "id": "pZs5QL6nBtQE"
   },
   "source": [
    "***\n",
    "<a id='section_id-ex2'></a>\n",
    "### <span style=\"background-color:#CCFFCC\">Class Exercise-2: Date stuff</span>\n",
    "* Insert a new markdown cell in the notebook and type in the header \"Answer Exercise-2\".\n",
    "* Use the Movie Lens dataset (ml1mdata2000.csv) for answering this question: How many movies were rated in the fourth quarter of 2000?\n",
    "\n",
    "> Hint 1: Use pd.to_datetime() to obtain date from the timestamp.\n",
    "\n",
    "> Hint 2: Use pd.DatetimeIndex() to obtain the year and month from the date.\n",
    "\n",
    "> Hint 3: Count the number of data points with 'year'==2000 and 'month'>9.\n",
    "\n",
    "> Caution: Make sure you don't double (or multiple) count some movies.\n",
    "***\n",
    "<div style=\"text-align: right\"> <a href='#section_id0'>Back to top of Notebook</a></div>"
   ]
  },
  {
   "cell_type": "code",
   "execution_count": null,
   "metadata": {
    "colab": {
     "base_uri": "https://localhost:8080/"
    },
    "executionInfo": {
     "elapsed": 14854,
     "status": "ok",
     "timestamp": 1686874143012,
     "user": {
      "displayName": "manmohan aseri",
      "userId": "06833916593206174696"
     },
     "user_tz": 240
    },
    "id": "AXgbhLq7f9bo",
    "outputId": "6bfebd21-748d-4cdf-f932-fd63904e1873"
   },
   "outputs": [
    {
     "name": "stdout",
     "output_type": "stream",
     "text": [
      "Mounted at /content/drive\n"
     ]
    }
   ],
   "source": [
    "from google.colab import drive\n",
    "drive.mount('/content/drive')"
   ]
  },
  {
   "cell_type": "code",
   "execution_count": null,
   "metadata": {
    "colab": {
     "base_uri": "https://localhost:8080/",
     "height": 206
    },
    "executionInfo": {
     "elapsed": 2320,
     "status": "ok",
     "timestamp": 1686874199618,
     "user": {
      "displayName": "manmohan aseri",
      "userId": "06833916593206174696"
     },
     "user_tz": 240
    },
    "id": "N8acyeOrBtQF",
    "outputId": "32e239ff-ce85-4a45-a835-9baaeeb59f80"
   },
   "outputs": [
    {
     "data": {
      "text/html": [
       "\n",
       "  <div id=\"df-25bbc72b-5e99-471b-a8d0-0a7f775f9ed5\">\n",
       "    <div class=\"colab-df-container\">\n",
       "      <div>\n",
       "<style scoped>\n",
       "    .dataframe tbody tr th:only-of-type {\n",
       "        vertical-align: middle;\n",
       "    }\n",
       "\n",
       "    .dataframe tbody tr th {\n",
       "        vertical-align: top;\n",
       "    }\n",
       "\n",
       "    .dataframe thead th {\n",
       "        text-align: right;\n",
       "    }\n",
       "</style>\n",
       "<table border=\"1\" class=\"dataframe\">\n",
       "  <thead>\n",
       "    <tr style=\"text-align: right;\">\n",
       "      <th></th>\n",
       "      <th>user_id</th>\n",
       "      <th>movie_id</th>\n",
       "      <th>rating</th>\n",
       "      <th>timestamp</th>\n",
       "      <th>gender</th>\n",
       "      <th>age</th>\n",
       "      <th>occupation</th>\n",
       "      <th>zip</th>\n",
       "      <th>title</th>\n",
       "      <th>genres</th>\n",
       "    </tr>\n",
       "  </thead>\n",
       "  <tbody>\n",
       "    <tr>\n",
       "      <th>0</th>\n",
       "      <td>1.0</td>\n",
       "      <td>1193.0</td>\n",
       "      <td>5</td>\n",
       "      <td>978300760</td>\n",
       "      <td>F</td>\n",
       "      <td>1.0</td>\n",
       "      <td>10.0</td>\n",
       "      <td>48067</td>\n",
       "      <td>One Flew Over the Cuckoo's Nest (1975)</td>\n",
       "      <td>Drama</td>\n",
       "    </tr>\n",
       "    <tr>\n",
       "      <th>1</th>\n",
       "      <td>2.0</td>\n",
       "      <td>1193.0</td>\n",
       "      <td>5</td>\n",
       "      <td>978298413</td>\n",
       "      <td>M</td>\n",
       "      <td>56.0</td>\n",
       "      <td>16.0</td>\n",
       "      <td>70072</td>\n",
       "      <td>One Flew Over the Cuckoo's Nest (1975)</td>\n",
       "      <td>Drama</td>\n",
       "    </tr>\n",
       "    <tr>\n",
       "      <th>2</th>\n",
       "      <td>12.0</td>\n",
       "      <td>1193.0</td>\n",
       "      <td>4</td>\n",
       "      <td>978220179</td>\n",
       "      <td>M</td>\n",
       "      <td>25.0</td>\n",
       "      <td>12.0</td>\n",
       "      <td>32793</td>\n",
       "      <td>One Flew Over the Cuckoo's Nest (1975)</td>\n",
       "      <td>Drama</td>\n",
       "    </tr>\n",
       "    <tr>\n",
       "      <th>3</th>\n",
       "      <td>15.0</td>\n",
       "      <td>1193.0</td>\n",
       "      <td>4</td>\n",
       "      <td>978199279</td>\n",
       "      <td>M</td>\n",
       "      <td>25.0</td>\n",
       "      <td>7.0</td>\n",
       "      <td>22903</td>\n",
       "      <td>One Flew Over the Cuckoo's Nest (1975)</td>\n",
       "      <td>Drama</td>\n",
       "    </tr>\n",
       "    <tr>\n",
       "      <th>4</th>\n",
       "      <td>17.0</td>\n",
       "      <td>1193.0</td>\n",
       "      <td>5</td>\n",
       "      <td>978158471</td>\n",
       "      <td>M</td>\n",
       "      <td>50.0</td>\n",
       "      <td>1.0</td>\n",
       "      <td>95350</td>\n",
       "      <td>One Flew Over the Cuckoo's Nest (1975)</td>\n",
       "      <td>Drama</td>\n",
       "    </tr>\n",
       "  </tbody>\n",
       "</table>\n",
       "</div>\n",
       "      <button class=\"colab-df-convert\" onclick=\"convertToInteractive('df-25bbc72b-5e99-471b-a8d0-0a7f775f9ed5')\"\n",
       "              title=\"Convert this dataframe to an interactive table.\"\n",
       "              style=\"display:none;\">\n",
       "        \n",
       "  <svg xmlns=\"http://www.w3.org/2000/svg\" height=\"24px\"viewBox=\"0 0 24 24\"\n",
       "       width=\"24px\">\n",
       "    <path d=\"M0 0h24v24H0V0z\" fill=\"none\"/>\n",
       "    <path d=\"M18.56 5.44l.94 2.06.94-2.06 2.06-.94-2.06-.94-.94-2.06-.94 2.06-2.06.94zm-11 1L8.5 8.5l.94-2.06 2.06-.94-2.06-.94L8.5 2.5l-.94 2.06-2.06.94zm10 10l.94 2.06.94-2.06 2.06-.94-2.06-.94-.94-2.06-.94 2.06-2.06.94z\"/><path d=\"M17.41 7.96l-1.37-1.37c-.4-.4-.92-.59-1.43-.59-.52 0-1.04.2-1.43.59L10.3 9.45l-7.72 7.72c-.78.78-.78 2.05 0 2.83L4 21.41c.39.39.9.59 1.41.59.51 0 1.02-.2 1.41-.59l7.78-7.78 2.81-2.81c.8-.78.8-2.07 0-2.86zM5.41 20L4 18.59l7.72-7.72 1.47 1.35L5.41 20z\"/>\n",
       "  </svg>\n",
       "      </button>\n",
       "      \n",
       "  <style>\n",
       "    .colab-df-container {\n",
       "      display:flex;\n",
       "      flex-wrap:wrap;\n",
       "      gap: 12px;\n",
       "    }\n",
       "\n",
       "    .colab-df-convert {\n",
       "      background-color: #E8F0FE;\n",
       "      border: none;\n",
       "      border-radius: 50%;\n",
       "      cursor: pointer;\n",
       "      display: none;\n",
       "      fill: #1967D2;\n",
       "      height: 32px;\n",
       "      padding: 0 0 0 0;\n",
       "      width: 32px;\n",
       "    }\n",
       "\n",
       "    .colab-df-convert:hover {\n",
       "      background-color: #E2EBFA;\n",
       "      box-shadow: 0px 1px 2px rgba(60, 64, 67, 0.3), 0px 1px 3px 1px rgba(60, 64, 67, 0.15);\n",
       "      fill: #174EA6;\n",
       "    }\n",
       "\n",
       "    [theme=dark] .colab-df-convert {\n",
       "      background-color: #3B4455;\n",
       "      fill: #D2E3FC;\n",
       "    }\n",
       "\n",
       "    [theme=dark] .colab-df-convert:hover {\n",
       "      background-color: #434B5C;\n",
       "      box-shadow: 0px 1px 3px 1px rgba(0, 0, 0, 0.15);\n",
       "      filter: drop-shadow(0px 1px 2px rgba(0, 0, 0, 0.3));\n",
       "      fill: #FFFFFF;\n",
       "    }\n",
       "  </style>\n",
       "\n",
       "      <script>\n",
       "        const buttonEl =\n",
       "          document.querySelector('#df-25bbc72b-5e99-471b-a8d0-0a7f775f9ed5 button.colab-df-convert');\n",
       "        buttonEl.style.display =\n",
       "          google.colab.kernel.accessAllowed ? 'block' : 'none';\n",
       "\n",
       "        async function convertToInteractive(key) {\n",
       "          const element = document.querySelector('#df-25bbc72b-5e99-471b-a8d0-0a7f775f9ed5');\n",
       "          const dataTable =\n",
       "            await google.colab.kernel.invokeFunction('convertToInteractive',\n",
       "                                                     [key], {});\n",
       "          if (!dataTable) return;\n",
       "\n",
       "          const docLinkHtml = 'Like what you see? Visit the ' +\n",
       "            '<a target=\"_blank\" href=https://colab.research.google.com/notebooks/data_table.ipynb>data table notebook</a>'\n",
       "            + ' to learn more about interactive tables.';\n",
       "          element.innerHTML = '';\n",
       "          dataTable['output_type'] = 'display_data';\n",
       "          await google.colab.output.renderOutput(dataTable, element);\n",
       "          const docLink = document.createElement('div');\n",
       "          docLink.innerHTML = docLinkHtml;\n",
       "          element.appendChild(docLink);\n",
       "        }\n",
       "      </script>\n",
       "    </div>\n",
       "  </div>\n",
       "  "
      ],
      "text/plain": [
       "   user_id  movie_id  rating  timestamp gender   age  occupation    zip  \\\n",
       "0      1.0    1193.0       5  978300760      F   1.0        10.0  48067   \n",
       "1      2.0    1193.0       5  978298413      M  56.0        16.0  70072   \n",
       "2     12.0    1193.0       4  978220179      M  25.0        12.0  32793   \n",
       "3     15.0    1193.0       4  978199279      M  25.0         7.0  22903   \n",
       "4     17.0    1193.0       5  978158471      M  50.0         1.0  95350   \n",
       "\n",
       "                                    title genres  \n",
       "0  One Flew Over the Cuckoo's Nest (1975)  Drama  \n",
       "1  One Flew Over the Cuckoo's Nest (1975)  Drama  \n",
       "2  One Flew Over the Cuckoo's Nest (1975)  Drama  \n",
       "3  One Flew Over the Cuckoo's Nest (1975)  Drama  \n",
       "4  One Flew Over the Cuckoo's Nest (1975)  Drama  "
      ]
     },
     "execution_count": 4,
     "metadata": {},
     "output_type": "execute_result"
    }
   ],
   "source": [
    "mlmdata = pd.read_csv('/content/drive/MyDrive/Colab Notebooks/Python Course/Large Data Sets/ml1mdata2000.csv')\n",
    "mlmdata.head()"
   ]
  },
  {
   "cell_type": "markdown",
   "metadata": {
    "id": "rfhDv0OzBtQK"
   },
   "source": [
    "***\n",
    "<a id='section_id-ex3'></a>\n",
    "### <span style=\"background-color:#CCFFCC\">Class Exercise-3: Compiling missing values</span>\n",
    "* Insert a new markdown cell in the notebook and type in the header \"Answer Exercise-3\".\n",
    "* Use the Movie Lens dataset (ml1mdata2000.csv) for this exercise.\n",
    "* Create a dataframe that compiles the count of missing values in the Movie Lens dataset. That is, for each movie (movie_id) obtain \"total count of records with missing values\" and \"proportion of missing values\".\n",
    "\n",
    "> Hint 1: Use data.isna().any(axis=1) and create a new variable named \"missing\" for each row that will contain 1 if that row has a missing values, otherwise 0.\n",
    "\n",
    "> Hint 2: Use data.groupby() on movie_id to calculate total missing values for each movie_id. Similarly, calculate the number of data points for each movie_id.\n",
    "***\n",
    "<div style=\"text-align: right\"> <a href='#section_id0'>Back to top of Notebook</a></div>"
   ]
  },
  {
   "cell_type": "markdown",
   "metadata": {
    "id": "YHHgwNX9BtQO"
   },
   "source": [
    "***\n",
    "<a id='section_id-ex4'></a>\n",
    "### <span style=\"background-color:#CCFFCC\">Class Exercise-4: Categorization</span>\n",
    "* Insert a new markdown cell in the notebook and type in the header \"Exercise-4\".\n",
    "* Use the Movie Lens dataset for this exercise\n",
    "* Insert a new column called \"rating_category\" into the dataframe. It is coded as following depending on the value of \"movie rating\": 1 & 2: Okay; 3 & 4: Good; 5: Excellent\n",
    "\n",
    "> Hint: Use pd.cut().\n",
    "***\n",
    "<div style=\"text-align: right\"> <a href='#section_id0'>Back to top of Notebook</a></div>"
   ]
  },
  {
   "cell_type": "markdown",
   "metadata": {
    "id": "Z2kGEVxlBtQO"
   },
   "source": [
    "***\n",
    "<a id='section_id-ex5'></a>\n",
    "### <span style=\"background-color:#CCFFCC\">Class Exercise-5: Grouping and ranking</span>\n",
    "* Insert a new markdown cell in the notebook and type in the header \"Exercise-5\".\n",
    "* Create a dataframe with the information below based on the Movie Lens dataset\n",
    "\n",
    "| Movie ID| Average rating |Absolute rank| Percentile rank|\n",
    "|-------|--------|--------------|-------------------|\n",
    "|||||\n",
    "\n",
    "> Hint 1: Use groupby('movie_id') to obtain average rating of movies.\n",
    "\n",
    "> Hint 2: Then use rank(ascending=False) and rank(pct=True) to obtain rank and percentile rank.\n",
    "\n",
    "\n",
    "***\n",
    "<div style=\"text-align: right\"> <a href='#section_id0'>Back to top of Notebook</a></div>"
   ]
  },
  {
   "cell_type": "markdown",
   "metadata": {
    "id": "OvC7Wi6XBtQP"
   },
   "source": [
    "***\n",
    "<a id='section_id-ex6'></a>\n",
    "### <span style=\"background-color:#CCFFCC\">Class Exercise-6: Pivot/crosstabs</span>\n",
    "* Insert a new markdown cell in the notebook and type in the header \"Exercise-6\".\n",
    "* Use the Movie Lens dataset, and show a table with the average ratings of movies in Zip codes that contain the term \"007\".\n",
    "\n",
    "> Hint: Obtain a pivot table using pd.pivot_table(). Then, use str.contains('007').\n",
    "***\n"
   ]
  },
  {
   "cell_type": "markdown",
   "metadata": {
    "id": "jkTcTZ-4_zqp"
   },
   "source": [
    "***\n",
    "<a id='section_id-ex6'></a>\n",
    "### <span style=\"background-color:#CCFFCC\">Class Exercise-7: Merging Datasets</span>\n",
    "* Use \"worlddata.csv\" from the \"Large Data Set\" folder and create a dataset that has the following variables: Death_Rate, Rural_Population, International_Migrants.\n",
    "\n",
    "> Hint: The corresponding values of IndicatorName are as follows:\n",
    "* **Death_Rate:** \"Death rate, crude (per 1,000 people)\"\n",
    "* **Rural_Population:** \"Rural population\"\n",
    "* **International_Migrants:** \"International migrant stock, total\"\n",
    "\n",
    "***"
   ]
  },
  {
   "cell_type": "markdown",
   "metadata": {
    "id": "qOdyrYrTub7u"
   },
   "source": [
    "### Class Exercise-8: Repeat what is asked in Q7 using Pivot Table (instead of merging).\n",
    "> Hint: Refer to last section in file \"Session3_Merging_Datasets.ipynb\".\n",
    "\n",
    "\n",
    "\n",
    "\n",
    "\n"
   ]
  }
 ],
 "metadata": {
  "colab": {
   "provenance": []
  },
  "kernelspec": {
   "display_name": "Python 3 (ipykernel)",
   "language": "python",
   "name": "python3"
  },
  "language_info": {
   "codemirror_mode": {
    "name": "ipython",
    "version": 3
   },
   "file_extension": ".py",
   "mimetype": "text/x-python",
   "name": "python",
   "nbconvert_exporter": "python",
   "pygments_lexer": "ipython3",
   "version": "3.10.12"
  }
 },
 "nbformat": 4,
 "nbformat_minor": 1
}
