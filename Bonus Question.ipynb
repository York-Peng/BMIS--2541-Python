{
 "cells": [
  {
   "cell_type": "code",
   "execution_count": 9,
   "id": "0fc8d99f",
   "metadata": {},
   "outputs": [],
   "source": [
    "import pandas as pd\n",
    "import seaborn as sns\n",
    "import matplotlib.pyplot as plt\n",
    "import numpy as np\n",
    "import math"
   ]
  },
  {
   "cell_type": "code",
   "execution_count": 5,
   "id": "54f5baf8",
   "metadata": {},
   "outputs": [
    {
     "name": "stderr",
     "output_type": "stream",
     "text": [
      "/var/folders/fg/q9vq8s1s467df4k3plvy57b00000gn/T/ipykernel_52511/3565653288.py:2: DtypeWarning: Columns (13) have mixed types. Specify dtype option on import or set low_memory=False.\n",
      "  df_2016 = pd.read_csv('../Data/EPA-data-2016.csv')\n"
     ]
    }
   ],
   "source": [
    "df_2015 = pd.read_csv('../Data/EPA-data-2015.csv')\n",
    "df_2016 = pd.read_csv('../Data/EPA-data-2016.csv')"
   ]
  },
  {
   "cell_type": "markdown",
   "id": "ef631e39",
   "metadata": {},
   "source": [
    "## 1.Comparing the 2015 data with 2016 data: "
   ]
  },
  {
   "cell_type": "markdown",
   "id": "a8dfaade",
   "metadata": {},
   "source": [
    "### a. Have the overall missing values in the EPA data increased or decreased between 2015 and 2016?"
   ]
  },
  {
   "cell_type": "code",
   "execution_count": 4,
   "id": "72db7ff4",
   "metadata": {},
   "outputs": [
    {
     "name": "stdout",
     "output_type": "stream",
     "text": [
      "The overall missing values decreased from 2015 to 2016.\n"
     ]
    }
   ],
   "source": [
    "missing_2015 = df_2015.isnull().sum().sum()\n",
    "missing_2016 = df_2016.isnull().sum().sum()\n",
    "\n",
    "if missing_2015 > missing_2016:\n",
    "    print(\"The overall missing values decreased from 2015 to 2016.\")\n",
    "elif missing_2015 < missing_2016:\n",
    "    print(\"The overall missing values increased from 2015 to 2016.\")\n",
    "else:\n",
    "    print(\"The overall missing values remained the same from 2015 to 2016.\")"
   ]
  },
  {
   "cell_type": "markdown",
   "id": "ad291086",
   "metadata": {},
   "source": [
    "### b.List the states for which the missing values in the data have increased and the states for which the missing values in the data have decreased."
   ]
  },
  {
   "cell_type": "code",
   "execution_count": 10,
   "id": "84a861da",
   "metadata": {},
   "outputs": [
    {
     "data": {
      "text/plain": [
       "(['Colorado',\n",
       "  'Connecticut',\n",
       "  'Kansas',\n",
       "  'Massachusetts',\n",
       "  'New Jersey',\n",
       "  'South Carolina',\n",
       "  'Utah',\n",
       "  'West Virginia'],\n",
       " ['Alabama',\n",
       "  'Alaska',\n",
       "  'Arizona',\n",
       "  'Arkansas',\n",
       "  'California',\n",
       "  'Delaware',\n",
       "  'District Of Columbia',\n",
       "  'Florida',\n",
       "  'Georgia',\n",
       "  'Hawaii',\n",
       "  'Idaho',\n",
       "  'Illinois',\n",
       "  'Indiana',\n",
       "  'Iowa',\n",
       "  'Kentucky',\n",
       "  'Louisiana',\n",
       "  'Maine',\n",
       "  'Maryland',\n",
       "  'Michigan',\n",
       "  'Minnesota',\n",
       "  'Mississippi',\n",
       "  'Missouri',\n",
       "  'Montana',\n",
       "  'Nebraska',\n",
       "  'Nevada',\n",
       "  'New Hampshire',\n",
       "  'New Mexico',\n",
       "  'New York',\n",
       "  'North Carolina',\n",
       "  'North Dakota',\n",
       "  'Ohio',\n",
       "  'Oklahoma',\n",
       "  'Oregon',\n",
       "  'Pennsylvania',\n",
       "  'Puerto Rico',\n",
       "  'Rhode Island',\n",
       "  'South Dakota',\n",
       "  'Tennessee',\n",
       "  'Texas',\n",
       "  'Vermont',\n",
       "  'Virginia',\n",
       "  'Washington',\n",
       "  'Wisconsin',\n",
       "  'Wyoming'])"
      ]
     },
     "execution_count": 10,
     "metadata": {},
     "output_type": "execute_result"
    }
   ],
   "source": [
    "missing_by_state_2015 = df_2015.groupby('State Name').apply(lambda x: x.isnull().sum().sum())\n",
    "missing_by_state_2016 = df_2016.groupby('State Name').apply(lambda x: x.isnull().sum().sum())\n",
    "\n",
    "difference_missing = missing_by_state_2016 - missing_by_state_2015\n",
    "\n",
    "increased_missing_states = difference_missing[difference_missing > 0].index.tolist()\n",
    "decreased_missing_states = difference_missing[difference_missing < 0].index.tolist()"
   ]
  },
  {
   "cell_type": "code",
   "execution_count": 11,
   "id": "7636d99d",
   "metadata": {},
   "outputs": [
    {
     "data": {
      "text/plain": [
       "['Colorado',\n",
       " 'Connecticut',\n",
       " 'Kansas',\n",
       " 'Massachusetts',\n",
       " 'New Jersey',\n",
       " 'South Carolina',\n",
       " 'Utah',\n",
       " 'West Virginia']"
      ]
     },
     "execution_count": 11,
     "metadata": {},
     "output_type": "execute_result"
    }
   ],
   "source": [
    "increased_missing_states"
   ]
  },
  {
   "cell_type": "code",
   "execution_count": 12,
   "id": "a0ea5ec8",
   "metadata": {},
   "outputs": [
    {
     "data": {
      "text/plain": [
       "['Alabama',\n",
       " 'Alaska',\n",
       " 'Arizona',\n",
       " 'Arkansas',\n",
       " 'California',\n",
       " 'Delaware',\n",
       " 'District Of Columbia',\n",
       " 'Florida',\n",
       " 'Georgia',\n",
       " 'Hawaii',\n",
       " 'Idaho',\n",
       " 'Illinois',\n",
       " 'Indiana',\n",
       " 'Iowa',\n",
       " 'Kentucky',\n",
       " 'Louisiana',\n",
       " 'Maine',\n",
       " 'Maryland',\n",
       " 'Michigan',\n",
       " 'Minnesota',\n",
       " 'Mississippi',\n",
       " 'Missouri',\n",
       " 'Montana',\n",
       " 'Nebraska',\n",
       " 'Nevada',\n",
       " 'New Hampshire',\n",
       " 'New Mexico',\n",
       " 'New York',\n",
       " 'North Carolina',\n",
       " 'North Dakota',\n",
       " 'Ohio',\n",
       " 'Oklahoma',\n",
       " 'Oregon',\n",
       " 'Pennsylvania',\n",
       " 'Puerto Rico',\n",
       " 'Rhode Island',\n",
       " 'South Dakota',\n",
       " 'Tennessee',\n",
       " 'Texas',\n",
       " 'Vermont',\n",
       " 'Virginia',\n",
       " 'Washington',\n",
       " 'Wisconsin',\n",
       " 'Wyoming']"
      ]
     },
     "execution_count": 12,
     "metadata": {},
     "output_type": "execute_result"
    }
   ],
   "source": [
    "decreased_missing_states"
   ]
  },
  {
   "cell_type": "markdown",
   "id": "829e1b19",
   "metadata": {},
   "source": [
    "### c.Create a new Pandas dataframe with the following columns, populate the dataframe, and write it out as a CSV file: "
   ]
  },
  {
   "cell_type": "code",
   "execution_count": 18,
   "id": "18af314e",
   "metadata": {},
   "outputs": [],
   "source": [
    "def calculate_missing_proportion(df):\n",
    "    total_observations = df.groupby(['Year', 'Month', 'State Name', 'County Name']).size().reset_index(name='Total_Observations')\n",
    "\n",
    "    missing_observations = df.groupby(['Year', 'Month', 'State Name', 'County Name']).apply(lambda x: x.isnull().sum().sum()).reset_index(name='Missing_Observations(%)')\n",
    "\n",
    "    combined = pd.merge(total_observations, missing_observations, on=['Year', 'Month', 'State Name', 'County Name'])\n",
    "\n",
    "    combined['Missing_Proportion(%)'] = combined['Missing_Observations(%)'] / combined['Total_Observations']\n",
    "    \n",
    "    return combined[['Year', 'Month', 'State Name', 'County Name', 'Missing_Proportion(%)']]"
   ]
  },
  {
   "cell_type": "code",
   "execution_count": 19,
   "id": "348671f5",
   "metadata": {},
   "outputs": [],
   "source": [
    "df_2015['Year'] = pd.to_datetime(df_2015['Date Local']).dt.year\n",
    "df_2015['Month'] = pd.to_datetime(df_2015['Date Local']).dt.month\n",
    "\n",
    "df_2016['Year'] = pd.to_datetime(df_2016['Date Local']).dt.year\n",
    "df_2016['Month'] = pd.to_datetime(df_2016['Date Local']).dt.month\n",
    "\n",
    "\n",
    "missing_proportion_2015 = calculate_missing_proportion(df_2015)\n",
    "missing_proportion_2016 = calculate_missing_proportion(df_2016)\n",
    "\n",
    "missing_proportion_combined = pd.concat([missing_proportion_2015, missing_proportion_2016])\n",
    "\n",
    "missing_proportion_combined.to_csv('./missing_proportion_combined.csv', index=False)"
   ]
  },
  {
   "cell_type": "markdown",
   "id": "13a9e566",
   "metadata": {},
   "source": [
    "## 2. Use “AQI” and “Arithmetic Mean” (of PM 2.5) as indicators of air quality to answer the following questions:"
   ]
  },
  {
   "cell_type": "markdown",
   "id": "b2cdc6ea",
   "metadata": {},
   "source": [
    "### a.On average, from 2015 to 2016 has pollution in the U.S. increased or decreased?"
   ]
  },
  {
   "cell_type": "code",
   "execution_count": 23,
   "id": "06b4648e",
   "metadata": {},
   "outputs": [
    {
     "name": "stdout",
     "output_type": "stream",
     "text": [
      "2015 pm2.5 AQI avage is: 33.35\n",
      "2016 pm2.5 AQI avage is: 29.92\n"
     ]
    }
   ],
   "source": [
    "pm25_2015 = df_2015[df_2015['Parameter Name'] == 'PM2.5 - Local Conditions']\n",
    "pm25_2016 = df_2016[df_2016['Parameter Name'] == 'PM2.5 - Local Conditions']\n",
    "\n",
    "average_aqi_pm25_2015 = round(pm25_2015['AQI'].mean(),2)\n",
    "average_aqi_pm25_2016 = round(pm25_2016['AQI'].mean(),2)\n",
    "print('2015 pm2.5 AQI avage is:',average_aqi_pm25_2015)\n",
    "print('2016 pm2.5 AQI avage is:',average_aqi_pm25_2016)"
   ]
  },
  {
   "cell_type": "code",
   "execution_count": 22,
   "id": "6e750a80",
   "metadata": {},
   "outputs": [
    {
     "name": "stdout",
     "output_type": "stream",
     "text": [
      "2015 pm2.5 Arithmetic avage is: 8.48\n",
      "2015 pm2.5 Arithmetic avage is: 7.34\n"
     ]
    }
   ],
   "source": [
    "average_arithmetic_pm25_2015 = round(pm25_2015['Arithmetic Mean'].mean(),2)\n",
    "average_arithmetic_pm25_2016 = round(pm25_2016['Arithmetic Mean'].mean(),2)\n",
    "\n",
    "print('2015 pm2.5 Arithmetic avage is:',average_arithmetic_pm25_2015)\n",
    "print('2015 pm2.5 Arithmetic avage is:',average_arithmetic_pm25_2016)"
   ]
  },
  {
   "cell_type": "markdown",
   "id": "b694e29a",
   "metadata": {},
   "source": [
    "### b. Insert a column in the 2015 and 2016 dataframes and call it “AQI category.”"
   ]
  },
  {
   "cell_type": "code",
   "execution_count": 24,
   "id": "6a5dbe00",
   "metadata": {},
   "outputs": [],
   "source": [
    "def categorize_aqi(aqi):\n",
    "    if 0 < aqi <= 50:\n",
    "        return 'Good'\n",
    "    elif 50 < aqi <= 100:\n",
    "        return 'Moderate'\n",
    "    elif 100 < aqi <= 150:\n",
    "        return 'Unhealthy-sensitive'\n",
    "    elif 150 < aqi <= 200:\n",
    "        return 'Unhealthy'\n",
    "    elif 200 < aqi <= 300:\n",
    "        return 'Very unhealthy'\n",
    "    else:\n",
    "        return 'Hazardous'"
   ]
  },
  {
   "cell_type": "code",
   "execution_count": 29,
   "id": "1200b1eb",
   "metadata": {},
   "outputs": [],
   "source": [
    "df_2015['AQI category'] = df_2015['AQI'].apply(categorize_aqi)\n",
    "df_2016['AQI category'] = df_2016['AQI'].apply(categorize_aqi)"
   ]
  },
  {
   "cell_type": "code",
   "execution_count": 30,
   "id": "1a731ac8",
   "metadata": {},
   "outputs": [
    {
     "data": {
      "text/html": [
       "<div>\n",
       "<style scoped>\n",
       "    .dataframe tbody tr th:only-of-type {\n",
       "        vertical-align: middle;\n",
       "    }\n",
       "\n",
       "    .dataframe tbody tr th {\n",
       "        vertical-align: top;\n",
       "    }\n",
       "\n",
       "    .dataframe thead th {\n",
       "        text-align: right;\n",
       "    }\n",
       "</style>\n",
       "<table border=\"1\" class=\"dataframe\">\n",
       "  <thead>\n",
       "    <tr style=\"text-align: right;\">\n",
       "      <th></th>\n",
       "      <th>AQI</th>\n",
       "      <th>AQI category</th>\n",
       "    </tr>\n",
       "  </thead>\n",
       "  <tbody>\n",
       "    <tr>\n",
       "      <th>0</th>\n",
       "      <td>28.0</td>\n",
       "      <td>Good</td>\n",
       "    </tr>\n",
       "    <tr>\n",
       "      <th>1</th>\n",
       "      <td>48.0</td>\n",
       "      <td>Good</td>\n",
       "    </tr>\n",
       "    <tr>\n",
       "      <th>2</th>\n",
       "      <td>55.0</td>\n",
       "      <td>Moderate</td>\n",
       "    </tr>\n",
       "    <tr>\n",
       "      <th>3</th>\n",
       "      <td>41.0</td>\n",
       "      <td>Good</td>\n",
       "    </tr>\n",
       "    <tr>\n",
       "      <th>4</th>\n",
       "      <td>26.0</td>\n",
       "      <td>Good</td>\n",
       "    </tr>\n",
       "  </tbody>\n",
       "</table>\n",
       "</div>"
      ],
      "text/plain": [
       "    AQI AQI category\n",
       "0  28.0         Good\n",
       "1  48.0         Good\n",
       "2  55.0     Moderate\n",
       "3  41.0         Good\n",
       "4  26.0         Good"
      ]
     },
     "execution_count": 30,
     "metadata": {},
     "output_type": "execute_result"
    }
   ],
   "source": [
    "df_2015[['AQI', 'AQI category']].head()"
   ]
  },
  {
   "cell_type": "code",
   "execution_count": 31,
   "id": "7ca409a5",
   "metadata": {},
   "outputs": [
    {
     "data": {
      "text/html": [
       "<div>\n",
       "<style scoped>\n",
       "    .dataframe tbody tr th:only-of-type {\n",
       "        vertical-align: middle;\n",
       "    }\n",
       "\n",
       "    .dataframe tbody tr th {\n",
       "        vertical-align: top;\n",
       "    }\n",
       "\n",
       "    .dataframe thead th {\n",
       "        text-align: right;\n",
       "    }\n",
       "</style>\n",
       "<table border=\"1\" class=\"dataframe\">\n",
       "  <thead>\n",
       "    <tr style=\"text-align: right;\">\n",
       "      <th></th>\n",
       "      <th>AQI</th>\n",
       "      <th>AQI category</th>\n",
       "    </tr>\n",
       "  </thead>\n",
       "  <tbody>\n",
       "    <tr>\n",
       "      <th>0</th>\n",
       "      <td>33.0</td>\n",
       "      <td>Good</td>\n",
       "    </tr>\n",
       "    <tr>\n",
       "      <th>1</th>\n",
       "      <td>22.0</td>\n",
       "      <td>Good</td>\n",
       "    </tr>\n",
       "    <tr>\n",
       "      <th>2</th>\n",
       "      <td>28.0</td>\n",
       "      <td>Good</td>\n",
       "    </tr>\n",
       "    <tr>\n",
       "      <th>3</th>\n",
       "      <td>13.0</td>\n",
       "      <td>Good</td>\n",
       "    </tr>\n",
       "    <tr>\n",
       "      <th>4</th>\n",
       "      <td>36.0</td>\n",
       "      <td>Good</td>\n",
       "    </tr>\n",
       "  </tbody>\n",
       "</table>\n",
       "</div>"
      ],
      "text/plain": [
       "    AQI AQI category\n",
       "0  33.0         Good\n",
       "1  22.0         Good\n",
       "2  28.0         Good\n",
       "3  13.0         Good\n",
       "4  36.0         Good"
      ]
     },
     "execution_count": 31,
     "metadata": {},
     "output_type": "execute_result"
    }
   ],
   "source": [
    "df_2016[['AQI', 'AQI category']].head()"
   ]
  },
  {
   "cell_type": "markdown",
   "id": "4d147caa",
   "metadata": {},
   "source": [
    "### c. When AQI levels are in the 0-50 range, air quality is considered as “Good.” How many days did Pittsburgh not meet the good air quality standard in 2015? How about in 2016?"
   ]
  },
  {
   "cell_type": "code",
   "execution_count": 34,
   "id": "265547bc",
   "metadata": {},
   "outputs": [],
   "source": [
    "pittsburgh_2015 = df_2015[(df_2015['City Name'] == 'Pittsburgh') & (df_2015['Parameter Name'] == 'PM2.5 - Local Conditions')]\n",
    "pittsburgh_2016 = df_2016[(df_2016['City Name'] == 'Pittsburgh') & (df_2016['Parameter Name'] == 'PM2.5 - Local Conditions')]\n",
    "\n",
    "pittsburgh_not_good_2015 = pittsburgh_2015[pittsburgh_2015['AQI'] > 50]['Date Local'].nunique()\n",
    "pittsburgh_not_good_2016 = pittsburgh_2016[pittsburgh_2016['AQI'] > 50]['Date Local'].nunique()"
   ]
  },
  {
   "cell_type": "code",
   "execution_count": 35,
   "id": "5cb27790",
   "metadata": {},
   "outputs": [
    {
     "data": {
      "text/plain": [
       "95"
      ]
     },
     "execution_count": 35,
     "metadata": {},
     "output_type": "execute_result"
    }
   ],
   "source": [
    "pittsburgh_not_good_2015"
   ]
  },
  {
   "cell_type": "code",
   "execution_count": 36,
   "id": "c6ce0186",
   "metadata": {},
   "outputs": [
    {
     "data": {
      "text/plain": [
       "86"
      ]
     },
     "execution_count": 36,
     "metadata": {},
     "output_type": "execute_result"
    }
   ],
   "source": [
    "pittsburgh_not_good_2016"
   ]
  },
  {
   "cell_type": "markdown",
   "id": "a9e56665",
   "metadata": {},
   "source": [
    "### d. Compare and comment on the air quality levels between Pittsburgh and Philadelphia."
   ]
  },
  {
   "cell_type": "code",
   "execution_count": 37,
   "id": "ed4ec00d",
   "metadata": {},
   "outputs": [],
   "source": [
    "def air_quality_city(df, city_name):\n",
    "    city_data = df[(df['City Name'] == city_name) & (df['Parameter Name'] == 'PM2.5 - Local Conditions')]\n",
    "    \n",
    "    average_aqi = city_data['AQI'].mean()\n",
    "    \n",
    "    average_arithmetic_mean = city_data['Arithmetic Mean'].mean()\n",
    "    \n",
    "    return average_aqi, average_arithmetic_mean"
   ]
  },
  {
   "cell_type": "code",
   "execution_count": 44,
   "id": "49d83581",
   "metadata": {},
   "outputs": [],
   "source": [
    "pittsburgh_aqi_2015, pittsburgh_arithmetic_mean_2015 = air_quality_city(df_2015, 'Pittsburgh')\n",
    "philadelphia_aqi_2015, philadelphia_arithmetic_mean_2015 = air_quality_city(df_2015, 'Philadelphia')\n",
    "\n",
    "pittsburgh_aqi_2016, pittsburgh_arithmetic_mean_2016 = air_quality_city(df_2016, 'Pittsburgh')\n",
    "philadelphia_aqi_2016, philadelphia_arithmetic_mean_2016 = air_quality_city(df_2016, 'Philadelphia')"
   ]
  },
  {
   "cell_type": "code",
   "execution_count": 64,
   "id": "625487a1",
   "metadata": {},
   "outputs": [
    {
     "name": "stdout",
     "output_type": "stream",
     "text": [
      "Pittsburgh API in 2015 is: 36.81\n",
      "Philadelphia API in 2015 is: 41.08\n"
     ]
    }
   ],
   "source": [
    "print('Pittsburgh API in 2015 is:',round(pittsburgh_aqi_2015,2))\n",
    "print('Philadelphia API in 2015 is:',round(philadelphia_aqi_2015,2))"
   ]
  },
  {
   "cell_type": "code",
   "execution_count": 63,
   "id": "1f91ef0c",
   "metadata": {},
   "outputs": [
    {
     "name": "stdout",
     "output_type": "stream",
     "text": [
      "Pittsburgh API in 2016 is: 39.81\n",
      "Philadelphia API in 2016 is: 36.0\n"
     ]
    }
   ],
   "source": [
    "print('Pittsburgh API in 2016 is:',round(pittsburgh_aqi_2016,2))\n",
    "print('Philadelphia API in 2016 is:',round(philadelphia_aqi_2016,2))"
   ]
  },
  {
   "cell_type": "code",
   "execution_count": 62,
   "id": "003f51be",
   "metadata": {},
   "outputs": [
    {
     "name": "stdout",
     "output_type": "stream",
     "text": [
      "Pittsburgh Arithmetic in 2015 is: 9.32\n",
      "Philadelphia Arithmetic in 2015 is: 10.65\n"
     ]
    }
   ],
   "source": [
    "print('Pittsburgh Arithmetic in 2015 is:', round(pittsburgh_arithmetic_mean_2015,2))\n",
    "print('Philadelphia Arithmetic in 2015 is:', round(philadelphia_arithmetic_mean_2015,2))"
   ]
  },
  {
   "cell_type": "code",
   "execution_count": 61,
   "id": "db4e30cc",
   "metadata": {},
   "outputs": [
    {
     "name": "stdout",
     "output_type": "stream",
     "text": [
      "Pittsburgh Arithmetic in 2016 is: 10.22\n",
      "Philadelphia Arithmetic in 2016 is: 9.07\n"
     ]
    }
   ],
   "source": [
    "print('Pittsburgh Arithmetic in 2016 is:', round(pittsburgh_arithmetic_mean_2016,2))\n",
    "print('Philadelphia Arithmetic in 2016 is:', round(philadelphia_arithmetic_mean_2016,2))"
   ]
  },
  {
   "cell_type": "markdown",
   "id": "31eb1d56",
   "metadata": {},
   "source": [
    "**Pittsburgh's API and Arithmetic numbers were up from 2015 to 2016. But Philadelphia's data instead declined. This means Philadelphia has better control over air quality optimization and pm2.5.**"
   ]
  },
  {
   "cell_type": "markdown",
   "id": "8cd386eb",
   "metadata": {},
   "source": [
    "### e.In 2015 and 2016, on the days when Pittsburgh did not have good air quality, did Philadelphia have good air quality?"
   ]
  },
  {
   "cell_type": "code",
   "execution_count": 49,
   "id": "39f31f3a",
   "metadata": {},
   "outputs": [],
   "source": [
    "pittsburgh_bad_days_2015 = pittsburgh_2015[pittsburgh_2015['AQI'] > 50]['Date Local'].unique()\n",
    "pittsburgh_bad_days_2016 = pittsburgh_2016[pittsburgh_2016['AQI'] > 50]['Date Local'].unique()\n",
    "\n",
    "philadelphia_2015 = df_2015[(df_2015['City Name'] == 'Philadelphia') & (df_2015['Parameter Name'] == 'PM2.5 - Local Conditions')]\n",
    "philadelphia_2016 = df_2016[(df_2016['City Name'] == 'Philadelphia') & (df_2016['Parameter Name'] == 'PM2.5 - Local Conditions')]"
   ]
  },
  {
   "cell_type": "code",
   "execution_count": 50,
   "id": "dbb7feed",
   "metadata": {},
   "outputs": [],
   "source": [
    "philadelphia_good_on_pittsburgh_bad_days_2015 = philadelphia_2015[philadelphia_2015['Date Local'].isin(pittsburgh_bad_days_2015) & (philadelphia_2015['AQI'] <= 50)]\n",
    "philadelphia_good_on_pittsburgh_bad_days_2016 = philadelphia_2016[philadelphia_2016['Date Local'].isin(pittsburgh_bad_days_2016) & (philadelphia_2016['AQI'] <= 50)]\n",
    "\n",
    "philadelphia_good_count_2015 = philadelphia_good_on_pittsburgh_bad_days_2015['Date Local'].nunique()\n",
    "philadelphia_good_count_2016 = philadelphia_good_on_pittsburgh_bad_days_2016['Date Local'].nunique()"
   ]
  },
  {
   "cell_type": "code",
   "execution_count": 51,
   "id": "512df0cd",
   "metadata": {},
   "outputs": [
    {
     "data": {
      "text/plain": [
       "50"
      ]
     },
     "execution_count": 51,
     "metadata": {},
     "output_type": "execute_result"
    }
   ],
   "source": [
    "philadelphia_good_count_2015"
   ]
  },
  {
   "cell_type": "code",
   "execution_count": 52,
   "id": "1135bb32",
   "metadata": {},
   "outputs": [
    {
     "data": {
      "text/plain": [
       "75"
      ]
     },
     "execution_count": 52,
     "metadata": {},
     "output_type": "execute_result"
    }
   ],
   "source": [
    "philadelphia_good_count_2016"
   ]
  },
  {
   "cell_type": "markdown",
   "id": "8d2fe170",
   "metadata": {},
   "source": [
    "**50 days in 2015 and 75 days in 2016**"
   ]
  },
  {
   "cell_type": "markdown",
   "id": "46db02d5",
   "metadata": {},
   "source": [
    "### f.If you rank order the U.S. cities featured in the datasets according to air quality, where does Pittsburgh feature in 2015 and 2016? Provide the absolute rank and also the rank in percentile terms."
   ]
  },
  {
   "cell_type": "code",
   "execution_count": 53,
   "id": "45d781ce",
   "metadata": {},
   "outputs": [],
   "source": [
    "def rank_cities_by_aqi(df, year):\n",
    "\n",
    "    city_aqi = df[df['Year'] == year].groupby('City Name')['AQI'].mean().sort_values()\n",
    "\n",
    "    pittsburgh_rank = city_aqi.index.get_loc('Pittsburgh') + 1\n",
    "\n",
    "    pittsburgh_percentile = (pittsburgh_rank / len(city_aqi)) * 100\n",
    "    \n",
    "    return city_aqi, pittsburgh_rank, pittsburgh_percentile"
   ]
  },
  {
   "cell_type": "code",
   "execution_count": 54,
   "id": "7119dfde",
   "metadata": {},
   "outputs": [],
   "source": [
    "city_aqi_2015, pittsburgh_rank_2015, pittsburgh_percentile_2015 = rank_cities_by_aqi(df_2015, 2015)\n",
    "city_aqi_2016, pittsburgh_rank_2016, pittsburgh_percentile_2016 = rank_cities_by_aqi(df_2016, 2016)"
   ]
  },
  {
   "cell_type": "code",
   "execution_count": 56,
   "id": "7682a284",
   "metadata": {},
   "outputs": [
    {
     "name": "stdout",
     "output_type": "stream",
     "text": [
      "In 2015, Pittsburgh's air quality ranking was: 480\n"
     ]
    }
   ],
   "source": [
    "print(\"In 2015, Pittsburgh's air quality ranking was:\",pittsburgh_rank_2015)"
   ]
  },
  {
   "cell_type": "code",
   "execution_count": 59,
   "id": "2e0f0298",
   "metadata": {},
   "outputs": [
    {
     "name": "stdout",
     "output_type": "stream",
     "text": [
      "In 2015, the percentage of Pittsburgh's ranking was: 72.73 %\n"
     ]
    }
   ],
   "source": [
    "print(\"In 2015, the percentage of Pittsburgh's ranking was:\",round(pittsburgh_percentile_2015,2),'%')"
   ]
  },
  {
   "cell_type": "code",
   "execution_count": 57,
   "id": "cbac1d10",
   "metadata": {},
   "outputs": [
    {
     "name": "stdout",
     "output_type": "stream",
     "text": [
      "In 2016, Pittsburgh's air quality ranking was: 605\n"
     ]
    }
   ],
   "source": [
    "print(\"In 2016, Pittsburgh's air quality ranking was:\",pittsburgh_rank_2016)"
   ]
  },
  {
   "cell_type": "code",
   "execution_count": 60,
   "id": "cd8d5671",
   "metadata": {},
   "outputs": [
    {
     "name": "stdout",
     "output_type": "stream",
     "text": [
      "In 2016, the percentage of Pittsburgh's ranking was: 93.51 %\n"
     ]
    }
   ],
   "source": [
    "print(\"In 2016, the percentage of Pittsburgh's ranking was:\",round(pittsburgh_percentile_2016,2),'%')"
   ]
  },
  {
   "cell_type": "markdown",
   "id": "9a30bf7a",
   "metadata": {},
   "source": [
    "## 3.Use the “Event Type” variable in the dataset to answer the following questions:"
   ]
  },
  {
   "cell_type": "markdown",
   "id": "6c9b1e2e",
   "metadata": {},
   "source": [
    "### a.Create an indicator (or dummy) variable in the datasets and name it “eventdummy”; eventdummy should be set to 0 if Event Type=”None”, else it should be set as 1. "
   ]
  },
  {
   "cell_type": "code",
   "execution_count": 13,
   "id": "fd80f26a",
   "metadata": {},
   "outputs": [],
   "source": [
    "df_2015['eventdummy'] = df_2015.apply(lambda row: 1 if pd.notna(row['Event Type']) else 0, axis=1)"
   ]
  },
  {
   "cell_type": "code",
   "execution_count": 14,
   "id": "15778286",
   "metadata": {},
   "outputs": [],
   "source": [
    "df_2016['eventdummy'] = df_2016.apply(lambda row: 1 if pd.notna(row['Event Type']) else 0, axis=1)"
   ]
  },
  {
   "cell_type": "code",
   "execution_count": 113,
   "id": "786678db",
   "metadata": {},
   "outputs": [
    {
     "data": {
      "text/plain": [
       "Index(['State Code', 'County Code', 'Site Num', 'Parameter Code', 'POC',\n",
       "       'Latitude', 'Longitude', 'Datum', 'Parameter Name', 'Sample Duration',\n",
       "       'Pollutant Standard', 'Date Local', 'Units of Measure', 'Event Type',\n",
       "       'Observation Count', 'Observation Percent', 'Arithmetic Mean',\n",
       "       '1st Max Value', '1st Max Hour', 'AQI', 'Method Code', 'Method Name',\n",
       "       'Local Site Name', 'Address', 'State Name', 'County Name', 'City Name',\n",
       "       'CBSA Name', 'Date of Last Change', 'Year', 'Month', 'AQI category',\n",
       "       'eventdummy', 'Region'],\n",
       "      dtype='object')"
      ]
     },
     "execution_count": 113,
     "metadata": {},
     "output_type": "execute_result"
    }
   ],
   "source": [
    "df_2015.columns"
   ]
  },
  {
   "cell_type": "markdown",
   "id": "6d9ebd76",
   "metadata": {},
   "source": [
    "### b.Using the eventdummy variable, find out if at any given “Local Site” air quality is impacted by the events that the site experiences. Group the states into commonly known regions of the U.S. [ For example, this Wikipedia page lists the different U.S. regions considered in the U.S. Census: https://en.wikipedia.org/wiki/List_of_regions_of_the_United_States ], and see if there is variation in your finding across the different regions."
   ]
  },
  {
   "cell_type": "code",
   "execution_count": 23,
   "id": "0c8270ed",
   "metadata": {},
   "outputs": [
    {
     "data": {
      "text/plain": [
       "['Alabama',\n",
       " 'Alaska',\n",
       " 'Arizona',\n",
       " 'Arkansas',\n",
       " 'California',\n",
       " 'Colorado',\n",
       " 'Connecticut',\n",
       " 'Delaware',\n",
       " 'District Of Columbia',\n",
       " 'Florida',\n",
       " 'Georgia',\n",
       " 'Hawaii',\n",
       " 'Idaho',\n",
       " 'Illinois',\n",
       " 'Indiana',\n",
       " 'Iowa',\n",
       " 'Kansas',\n",
       " 'Kentucky',\n",
       " 'Louisiana',\n",
       " 'Maine',\n",
       " 'Maryland',\n",
       " 'Massachusetts',\n",
       " 'Michigan',\n",
       " 'Minnesota',\n",
       " 'Mississippi',\n",
       " 'Missouri',\n",
       " 'Montana',\n",
       " 'Nebraska',\n",
       " 'Nevada',\n",
       " 'New Hampshire',\n",
       " 'New Jersey',\n",
       " 'New Mexico',\n",
       " 'New York',\n",
       " 'North Carolina',\n",
       " 'North Dakota',\n",
       " 'Ohio',\n",
       " 'Oklahoma',\n",
       " 'Oregon',\n",
       " 'Pennsylvania',\n",
       " 'Rhode Island',\n",
       " 'South Carolina',\n",
       " 'South Dakota',\n",
       " 'Tennessee',\n",
       " 'Texas',\n",
       " 'Utah',\n",
       " 'Vermont',\n",
       " 'Virginia',\n",
       " 'Washington',\n",
       " 'West Virginia',\n",
       " 'Wisconsin',\n",
       " 'Wyoming',\n",
       " 'Puerto Rico',\n",
       " 'Virgin Islands']"
      ]
     },
     "execution_count": 23,
     "metadata": {},
     "output_type": "execute_result"
    }
   ],
   "source": [
    "df_2015['State Name'].unique().tolist()"
   ]
  },
  {
   "cell_type": "code",
   "execution_count": 24,
   "id": "1611c649",
   "metadata": {},
   "outputs": [],
   "source": [
    "Northeast_List =  ['Connecticut', 'Maine', 'Massachusetts', 'New Hampshire', 'Rhode Island', 'Vermont', 'New Jersey', 'New York', 'Pennsylvania']\n",
    "Midwest_List = ['Illinois', 'Indiana', 'Michigan', 'Ohio', 'Wisconsin', 'Iowa', 'Kansas', 'Minnesota', 'Missouri', 'Nebraska', 'North Dakota', 'South Dakota']\n",
    "South_List = ['Delaware', 'Florida', 'Georgia', 'Maryland', 'North Carolina', 'South Carolina', 'Virginia', 'District of Columbia', 'West Virginia', 'Alabama', 'Kentucky', 'Mississippi', 'Tennessee', 'Arkansas', 'Louisiana', 'Oklahoma', 'Texas']\n",
    "West_List = ['Arizona', 'Colorado', 'Idaho', 'Montana', 'Nevada', 'New Mexico', 'Utah', 'Wyoming', 'Alaska', 'California', 'Hawaii', 'Oregon', 'Washington']"
   ]
  },
  {
   "cell_type": "code",
   "execution_count": 25,
   "id": "85612d21",
   "metadata": {},
   "outputs": [],
   "source": [
    "conditions = [\n",
    "    df_2015['State Name'].isin(Northeast_List),\n",
    "    df_2015['State Name'].isin(Midwest_List),\n",
    "    df_2015['State Name'].isin(South_List),\n",
    "    df_2015['State Name'].isin(West_List)\n",
    "]\n",
    "\n",
    "\n",
    "choices = ['Northeast', 'Midwest', 'South', 'West']\n",
    "\n",
    "\n",
    "df_2015['Region'] = np.select(conditions, choices, default=np.nan)"
   ]
  },
  {
   "cell_type": "code",
   "execution_count": 26,
   "id": "ae219775",
   "metadata": {},
   "outputs": [],
   "source": [
    "conditions = [\n",
    "    df_2016['State Name'].isin(Northeast_List),\n",
    "    df_2016['State Name'].isin(Midwest_List),\n",
    "    df_2016['State Name'].isin(South_List),\n",
    "    df_2016['State Name'].isin(West_List)\n",
    "]\n",
    "\n",
    "\n",
    "choices = ['Northeast', 'Midwest', 'South', 'West']\n",
    "\n",
    "\n",
    "df_2016['Region'] = np.select(conditions, choices, default=np.nan)"
   ]
  },
  {
   "cell_type": "code",
   "execution_count": 27,
   "id": "edbfc793",
   "metadata": {},
   "outputs": [],
   "source": [
    "impact_by_region_2015 = df_2015.groupby('Region')['eventdummy'].mean().reset_index()\n",
    "impact_by_region_2016 = df_2016.groupby('Region')['eventdummy'].mean().reset_index()"
   ]
  },
  {
   "cell_type": "code",
   "execution_count": 28,
   "id": "4e4200b5",
   "metadata": {},
   "outputs": [
    {
     "data": {
      "text/html": [
       "<div>\n",
       "<style scoped>\n",
       "    .dataframe tbody tr th:only-of-type {\n",
       "        vertical-align: middle;\n",
       "    }\n",
       "\n",
       "    .dataframe tbody tr th {\n",
       "        vertical-align: top;\n",
       "    }\n",
       "\n",
       "    .dataframe thead th {\n",
       "        text-align: right;\n",
       "    }\n",
       "</style>\n",
       "<table border=\"1\" class=\"dataframe\">\n",
       "  <thead>\n",
       "    <tr style=\"text-align: right;\">\n",
       "      <th></th>\n",
       "      <th>Region</th>\n",
       "      <th>eventdummy</th>\n",
       "    </tr>\n",
       "  </thead>\n",
       "  <tbody>\n",
       "    <tr>\n",
       "      <th>0</th>\n",
       "      <td>Midwest</td>\n",
       "      <td>0.158534</td>\n",
       "    </tr>\n",
       "    <tr>\n",
       "      <th>1</th>\n",
       "      <td>Northeast</td>\n",
       "      <td>0.000015</td>\n",
       "    </tr>\n",
       "    <tr>\n",
       "      <th>2</th>\n",
       "      <td>South</td>\n",
       "      <td>0.065716</td>\n",
       "    </tr>\n",
       "    <tr>\n",
       "      <th>3</th>\n",
       "      <td>West</td>\n",
       "      <td>0.076746</td>\n",
       "    </tr>\n",
       "    <tr>\n",
       "      <th>4</th>\n",
       "      <td>nan</td>\n",
       "      <td>0.000000</td>\n",
       "    </tr>\n",
       "  </tbody>\n",
       "</table>\n",
       "</div>"
      ],
      "text/plain": [
       "      Region  eventdummy\n",
       "0    Midwest    0.158534\n",
       "1  Northeast    0.000015\n",
       "2      South    0.065716\n",
       "3       West    0.076746\n",
       "4        nan    0.000000"
      ]
     },
     "execution_count": 28,
     "metadata": {},
     "output_type": "execute_result"
    }
   ],
   "source": [
    "impact_by_region_2015.head()"
   ]
  },
  {
   "cell_type": "code",
   "execution_count": 29,
   "id": "c84788ef",
   "metadata": {},
   "outputs": [
    {
     "data": {
      "text/html": [
       "<div>\n",
       "<style scoped>\n",
       "    .dataframe tbody tr th:only-of-type {\n",
       "        vertical-align: middle;\n",
       "    }\n",
       "\n",
       "    .dataframe tbody tr th {\n",
       "        vertical-align: top;\n",
       "    }\n",
       "\n",
       "    .dataframe thead th {\n",
       "        text-align: right;\n",
       "    }\n",
       "</style>\n",
       "<table border=\"1\" class=\"dataframe\">\n",
       "  <thead>\n",
       "    <tr style=\"text-align: right;\">\n",
       "      <th></th>\n",
       "      <th>Region</th>\n",
       "      <th>eventdummy</th>\n",
       "    </tr>\n",
       "  </thead>\n",
       "  <tbody>\n",
       "    <tr>\n",
       "      <th>0</th>\n",
       "      <td>Midwest</td>\n",
       "      <td>0.167644</td>\n",
       "    </tr>\n",
       "    <tr>\n",
       "      <th>1</th>\n",
       "      <td>Northeast</td>\n",
       "      <td>0.000018</td>\n",
       "    </tr>\n",
       "    <tr>\n",
       "      <th>2</th>\n",
       "      <td>South</td>\n",
       "      <td>0.075099</td>\n",
       "    </tr>\n",
       "    <tr>\n",
       "      <th>3</th>\n",
       "      <td>West</td>\n",
       "      <td>0.074324</td>\n",
       "    </tr>\n",
       "    <tr>\n",
       "      <th>4</th>\n",
       "      <td>nan</td>\n",
       "      <td>0.000000</td>\n",
       "    </tr>\n",
       "  </tbody>\n",
       "</table>\n",
       "</div>"
      ],
      "text/plain": [
       "      Region  eventdummy\n",
       "0    Midwest    0.167644\n",
       "1  Northeast    0.000018\n",
       "2      South    0.075099\n",
       "3       West    0.074324\n",
       "4        nan    0.000000"
      ]
     },
     "execution_count": 29,
     "metadata": {},
     "output_type": "execute_result"
    }
   ],
   "source": [
    "impact_by_region_2016.head()"
   ]
  },
  {
   "cell_type": "markdown",
   "id": "605f5968",
   "metadata": {},
   "source": [
    "## 4.Comment on the presence of outliers in the data. "
   ]
  },
  {
   "cell_type": "code",
   "execution_count": 82,
   "id": "1000949b",
   "metadata": {},
   "outputs": [
    {
     "data": {
      "image/png": "[encoded data removed]",
      "text/plain": [
       "<Figure size 640x480 with 1 Axes>"
      ]
     },
     "metadata": {},
     "output_type": "display_data"
    },
    {
     "data": {
      "image/png": "[encoded data removed]",
      "text/plain": [
       "<Figure size 640x480 with 1 Axes>"
      ]
     },
     "metadata": {},
     "output_type": "display_data"
    }
   ],
   "source": [
    "sns.boxplot(x=df_2015['AQI'])\n",
    "plt.title('Boxplot of AQI')\n",
    "plt.show()\n",
    "\n",
    "sns.boxplot(x=df_2015['Arithmetic Mean'])\n",
    "plt.title('Boxplot of Arithmetic Mean for PM2.5')\n",
    "plt.show()"
   ]
  },
  {
   "cell_type": "markdown",
   "id": "0c5f779e",
   "metadata": {},
   "source": [
    "**Outliers in both AQI and Arithmetic in 2015 data**"
   ]
  },
  {
   "cell_type": "code",
   "execution_count": 83,
   "id": "a53fa3ef",
   "metadata": {},
   "outputs": [
    {
     "data": {
      "image/png": "[encoded data removed]",
      "text/plain": [
       "<Figure size 640x480 with 1 Axes>"
      ]
     },
     "metadata": {},
     "output_type": "display_data"
    },
    {
     "data": {
      "image/png": "[encoded data removed]",
      "text/plain": [
       "<Figure size 640x480 with 1 Axes>"
      ]
     },
     "metadata": {},
     "output_type": "display_data"
    }
   ],
   "source": [
    "sns.boxplot(x=df_2016['AQI'])\n",
    "plt.title('Boxplot of AQI')\n",
    "plt.show()\n",
    "\n",
    "sns.boxplot(x=df_2016['Arithmetic Mean'])\n",
    "plt.title('Boxplot of Arithmetic Mean for PM2.5')\n",
    "plt.show()"
   ]
  },
  {
   "cell_type": "markdown",
   "id": "3719e762",
   "metadata": {},
   "source": [
    "**Outliers in both AQI and Arithmetic in 2016 data**"
   ]
  },
  {
   "cell_type": "markdown",
   "id": "8fadff06",
   "metadata": {},
   "source": [
    "## 5.Combine the two datasets and then create the following"
   ]
  },
  {
   "cell_type": "markdown",
   "id": "7aa4432b",
   "metadata": {},
   "source": [
    "### a.A new variable that is a combination of “State Code” and “County Name”; call it “state-county.” "
   ]
  },
  {
   "cell_type": "code",
   "execution_count": 86,
   "id": "2e1d67cd",
   "metadata": {},
   "outputs": [],
   "source": [
    "combined_df = pd.concat([df_2015, df_2016])\n",
    "\n",
    "combined_df['state-county'] = combined_df['State Code'].astype(str) + \"-\" + combined_df['County Name']"
   ]
  },
  {
   "cell_type": "markdown",
   "id": "74877c98",
   "metadata": {},
   "source": [
    "### b.Create a pivot table with “state-county,” “month” and “year” as the indices. The values of AQI must be averaged in the pivot table. Then, query the pivot table you created for the values of cities with the phrase “New” in them (New York, Newport, etc.).  "
   ]
  },
  {
   "cell_type": "code",
   "execution_count": 85,
   "id": "e40eba5b",
   "metadata": {},
   "outputs": [
    {
     "data": {
      "text/html": [
       "<div>\n",
       "<style scoped>\n",
       "    .dataframe tbody tr th:only-of-type {\n",
       "        vertical-align: middle;\n",
       "    }\n",
       "\n",
       "    .dataframe tbody tr th {\n",
       "        vertical-align: top;\n",
       "    }\n",
       "\n",
       "    .dataframe thead th {\n",
       "        text-align: right;\n",
       "    }\n",
       "</style>\n",
       "<table border=\"1\" class=\"dataframe\">\n",
       "  <thead>\n",
       "    <tr style=\"text-align: right;\">\n",
       "      <th></th>\n",
       "      <th></th>\n",
       "      <th></th>\n",
       "      <th>AQI</th>\n",
       "    </tr>\n",
       "    <tr>\n",
       "      <th>state-county</th>\n",
       "      <th>month</th>\n",
       "      <th>year</th>\n",
       "      <th></th>\n",
       "    </tr>\n",
       "  </thead>\n",
       "  <tbody>\n",
       "    <tr>\n",
       "      <th rowspan=\"5\" valign=\"top\">10-New Castle</th>\n",
       "      <th rowspan=\"2\" valign=\"top\">1</th>\n",
       "      <th>2015</th>\n",
       "      <td>47.201613</td>\n",
       "    </tr>\n",
       "    <tr>\n",
       "      <th>2016</th>\n",
       "      <td>41.140000</td>\n",
       "    </tr>\n",
       "    <tr>\n",
       "      <th rowspan=\"2\" valign=\"top\">2</th>\n",
       "      <th>2015</th>\n",
       "      <td>46.293578</td>\n",
       "    </tr>\n",
       "    <tr>\n",
       "      <th>2016</th>\n",
       "      <td>33.294118</td>\n",
       "    </tr>\n",
       "    <tr>\n",
       "      <th>3</th>\n",
       "      <th>2015</th>\n",
       "      <td>41.795082</td>\n",
       "    </tr>\n",
       "  </tbody>\n",
       "</table>\n",
       "</div>"
      ],
      "text/plain": [
       "                                AQI\n",
       "state-county  month year           \n",
       "10-New Castle 1     2015  47.201613\n",
       "                    2016  41.140000\n",
       "              2     2015  46.293578\n",
       "                    2016  33.294118\n",
       "              3     2015  41.795082"
      ]
     },
     "execution_count": 85,
     "metadata": {},
     "output_type": "execute_result"
    }
   ],
   "source": [
    "combined_df['month'] = pd.to_datetime(combined_df['Date Local']).dt.month\n",
    "combined_df['year'] = pd.to_datetime(combined_df['Date Local']).dt.year\n",
    "\n",
    "pivot_table = combined_df.pivot_table(\n",
    "    values='AQI',\n",
    "    index=['state-county', 'month', 'year'],\n",
    "    aggfunc='mean'\n",
    ")\n",
    "\n",
    "filtered_pivot_table = pivot_table.query('`state-county`.str.contains(\"New\")', engine='python')\n",
    "\n",
    "filtered_pivot_table.head()"
   ]
  },
  {
   "cell_type": "code",
   "execution_count": null,
   "id": "d9efe0c3",
   "metadata": {},
   "outputs": [],
   "source": []
  }
 ],
 "metadata": {
  "kernelspec": {
   "display_name": "Python 3 (ipykernel)",
   "language": "python",
   "name": "python3"
  },
  "language_info": {
   "codemirror_mode": {
    "name": "ipython",
    "version": 3
   },
   "file_extension": ".py",
   "mimetype": "text/x-python",
   "name": "python",
   "nbconvert_exporter": "python",
   "pygments_lexer": "ipython3",
   "version": "3.10.12"
  }
 },
 "nbformat": 4,
 "nbformat_minor": 5
}
