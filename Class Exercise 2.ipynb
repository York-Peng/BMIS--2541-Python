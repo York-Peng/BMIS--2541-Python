{
 "cells": [
  {
   "cell_type": "markdown",
   "id": "364220b9",
   "metadata": {},
   "source": [
    "# Exercise 1"
   ]
  },
  {
   "cell_type": "code",
   "execution_count": 4,
   "id": "4cd4bc53",
   "metadata": {},
   "outputs": [
    {
     "name": "stdout",
     "output_type": "stream",
     "text": [
      "please input a number:1230\n",
      "odd count is: 2\n",
      "even count is: 1\n",
      "zero count is: 1\n"
     ]
    }
   ],
   "source": [
    "innput_content = input('please input a number:')\n",
    "\n",
    "odd_count = 0\n",
    "even_count = 0\n",
    "zero_count = 0\n",
    "\n",
    "\n",
    "for n in innput_content:\n",
    "    if n == '0':\n",
    "        zero_count += 1\n",
    "    elif int(n)%2 == 0:\n",
    "        even_count += 1\n",
    "    elif int(n)%2 != 0:\n",
    "        odd_count += 1\n",
    "\n",
    "        \n",
    "print('odd count is:',odd_count)\n",
    "print('even count is:',even_count)\n",
    "print('zero count is:',zero_count)"
   ]
  },
  {
   "cell_type": "markdown",
   "id": "cd489a86",
   "metadata": {},
   "source": [
    "# Exercise 2"
   ]
  },
  {
   "cell_type": "code",
   "execution_count": 10,
   "id": "4883a313",
   "metadata": {},
   "outputs": [],
   "source": [
    "def odd_even_process(input_num):\n",
    "    if input_num %2 == 0:\n",
    "        input_num = input_num / 2\n",
    "    else:\n",
    "        input_num = input_num * 3 + 1\n",
    "    print(int(input_num))\n",
    "    return input_num"
   ]
  },
  {
   "cell_type": "code",
   "execution_count": 16,
   "id": "690a6b2a",
   "metadata": {},
   "outputs": [
    {
     "name": "stdout",
     "output_type": "stream",
     "text": [
      "please input a number:4\n",
      "4\n",
      "2\n",
      "1\n",
      "4\n",
      "2\n",
      "1\n",
      "The programming is finish\n"
     ]
    }
   ],
   "source": [
    "input_num = int(input('please input a number:'))\n",
    "\n",
    "while input_num == 0:\n",
    "    input_num = int(input('please input a positive number:'))\n",
    "\n",
    "    \n",
    "result_list = []\n",
    "result_list.append(input_num)\n",
    "print(input_num)\n",
    "while len(result_list) < 6:\n",
    "    input_num  = odd_even_process(input_num)\n",
    "    result_list.append(input_num)\n",
    "\n",
    "while result_list[-6:-3] != result_list[-3:]:\n",
    "    input_num = odd_even_process(input_num)\n",
    "    result_list.append(input_num)\n",
    "    \n",
    "    \n",
    "print('The programming is finish')    \n"
   ]
  },
  {
   "cell_type": "code",
   "execution_count": 21,
   "id": "a2aad95b",
   "metadata": {},
   "outputs": [
    {
     "name": "stdout",
     "output_type": "stream",
     "text": [
      "Enter first number:1\n",
      "Enter second number:2\n",
      "[1, 2, 3, 5, 8, 3, 1, 4, 5, 9, 4, 3, 7, 0, 7, 7, 4, 1, 5, 6, 1, 7, 8, 5, 3, 8, 1, 9, 0, 9, 9, 8, 7, 5, 2, 7, 9, 6, 5, 1, 6, 7, 3, 0, 3, 3, 6, 9, 5, 4, 9, 3, 2, 5, 7, 2, 9, 1, 0, 1, 1, 2]\n"
     ]
    }
   ],
   "source": [
    "choose1 = int(input('Enter first number:'))\n",
    "choose2 = int(input('Enter second number:'))\n",
    "user_choose = [choose1,choose2]\n",
    "\n",
    "while True:\n",
    "    next_number = (user_choose[-1] + user_choose[-2]) % 10\n",
    "    user_choose.append(next_number)\n",
    "    \n",
    "    if user_choose[-2:] == [choose1,choose2]:\n",
    "        break\n",
    "\n",
    "print(user_choose)"
   ]
  },
  {
   "cell_type": "code",
   "execution_count": null,
   "id": "31f4c898",
   "metadata": {},
   "outputs": [],
   "source": []
  }
 ],
 "metadata": {
  "kernelspec": {
   "display_name": "Python 3 (ipykernel)",
   "language": "python",
   "name": "python3"
  },
  "language_info": {
   "codemirror_mode": {
    "name": "ipython",
    "version": 3
   },
   "file_extension": ".py",
   "mimetype": "text/x-python",
   "name": "python",
   "nbconvert_exporter": "python",
   "pygments_lexer": "ipython3",
   "version": "3.10.12"
  }
 },
 "nbformat": 4,
 "nbformat_minor": 5
}
