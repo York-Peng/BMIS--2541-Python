{
 "cells": [
  {
   "cell_type": "code",
   "execution_count": 2,
   "id": "bedfc6b1",
   "metadata": {},
   "outputs": [],
   "source": [
    "import pandas as pd"
   ]
  },
  {
   "cell_type": "code",
   "execution_count": 4,
   "id": "8d0088ac",
   "metadata": {},
   "outputs": [
    {
     "name": "stderr",
     "output_type": "stream",
     "text": [
      "/var/folders/fg/q9vq8s1s467df4k3plvy57b00000gn/T/ipykernel_33126/844172021.py:3: DtypeWarning: Columns (13) have mixed types. Specify dtype option on import or set low_memory=False.\n",
      "  df_2016 = pd.read_csv('../Data/EPA-data-2016.csv')\n"
     ]
    }
   ],
   "source": [
    "# Read the datasets into Pandas dataframes\n",
    "df_2015 = pd.read_csv('../Data/EPA-data-2015.csv')\n",
    "df_2016 = pd.read_csv('../Data/EPA-data-2016.csv')"
   ]
  },
  {
   "cell_type": "code",
   "execution_count": 8,
   "id": "d173c0dd",
   "metadata": {},
   "outputs": [
    {
     "data": {
      "text/plain": [
       "['State Code',\n",
       " 'County Code',\n",
       " 'Site Num',\n",
       " 'Parameter Code',\n",
       " 'POC',\n",
       " 'Latitude',\n",
       " 'Longitude',\n",
       " 'Datum',\n",
       " 'Parameter Name',\n",
       " 'Sample Duration',\n",
       " 'Pollutant Standard',\n",
       " 'Date Local',\n",
       " 'Units of Measure',\n",
       " 'Event Type',\n",
       " 'Observation Count',\n",
       " 'Observation Percent',\n",
       " 'Arithmetic Mean',\n",
       " '1st Max Value',\n",
       " '1st Max Hour',\n",
       " 'AQI',\n",
       " 'Method Code',\n",
       " 'Method Name',\n",
       " 'Local Site Name',\n",
       " 'Address',\n",
       " 'State Name',\n",
       " 'County Name',\n",
       " 'City Name',\n",
       " 'CBSA Name',\n",
       " 'Date of Last Change']"
      ]
     },
     "execution_count": 8,
     "metadata": {},
     "output_type": "execute_result"
    }
   ],
   "source": [
    "list(df_2015.columns)"
   ]
  },
  {
   "cell_type": "code",
   "execution_count": 5,
   "id": "5cf7391f",
   "metadata": {},
   "outputs": [
    {
     "name": "stdout",
     "output_type": "stream",
     "text": [
      "The overall missing values decreased.\n"
     ]
    }
   ],
   "source": [
    "# (a) Compare the overall missing values in both datasets\n",
    "missing_2015 = df_2015.isnull().sum().sum()\n",
    "missing_2016 = df_2016.isnull().sum().sum()\n",
    "\n",
    "if missing_2015 > missing_2016:\n",
    "    print(\"The overall missing values decreased.\")\n",
    "elif missing_2015 < missing_2016:\n",
    "    print(\"The overall missing values increased.\")\n",
    "else:\n",
    "    print(\"The overall missing values remained the same.\")"
   ]
  },
  {
   "cell_type": "code",
   "execution_count": 10,
   "id": "ff22be01",
   "metadata": {},
   "outputs": [
    {
     "name": "stdout",
     "output_type": "stream",
     "text": [
      "\n",
      "States with increased missing values:\n",
      "['Colorado', 'Connecticut', 'Kansas', 'Massachusetts', 'New Jersey', 'South Carolina', 'Utah', 'West Virginia']\n",
      "\n",
      "States with decreased missing values:\n",
      "['Alabama', 'Alaska', 'Arizona', 'Arkansas', 'California', 'Delaware', 'District Of Columbia', 'Florida', 'Georgia', 'Hawaii', 'Idaho', 'Illinois', 'Indiana', 'Iowa', 'Kentucky', 'Louisiana', 'Maine', 'Maryland', 'Michigan', 'Minnesota', 'Mississippi', 'Missouri', 'Montana', 'Nebraska', 'Nevada', 'New Hampshire', 'New Mexico', 'New York', 'North Carolina', 'North Dakota', 'Ohio', 'Oklahoma', 'Oregon', 'Pennsylvania', 'Puerto Rico', 'Rhode Island', 'South Dakota', 'Tennessee', 'Texas', 'Vermont', 'Virginia', 'Washington', 'Wisconsin', 'Wyoming']\n"
     ]
    }
   ],
   "source": [
    "# (b) List the states for which the missing values have increased or decreased\n",
    "missing_by_state_2015 = df_2015.groupby('State Name').apply(lambda x: x.isnull().sum().sum())\n",
    "missing_by_state_2016 = df_2016.groupby('State Name').apply(lambda x: x.isnull().sum().sum())\n",
    "\n",
    "increased_missing_states = (missing_by_state_2016 - missing_by_state_2015) > 0\n",
    "decreased_missing_states = (missing_by_state_2016 - missing_by_state_2015) < 0\n",
    "\n",
    "print(\"\\nStates with increased missing values:\")\n",
    "print(increased_missing_states[increased_missing_states].index.tolist())\n",
    "\n",
    "print(\"\\nStates with decreased missing values:\")\n",
    "print(decreased_missing_states[decreased_missing_states].index.tolist())"
   ]
  },
  {
   "cell_type": "code",
   "execution_count": 12,
   "id": "7d26135d",
   "metadata": {},
   "outputs": [],
   "source": [
    "def compute_missing_proportion(df):\n",
    "    df['Year'] = pd.to_datetime(df['Date Local']).dt.year\n",
    "    df['Month'] = pd.to_datetime(df['Date Local']).dt.month\n",
    "    grouped = df.groupby(['Year', 'Month', 'State Name', 'County Name'])\n",
    "    total = grouped.size()\n",
    "    missing = grouped.apply(lambda x: x.isnull().sum().sum())\n",
    "    proportion = missing / total\n",
    "    return proportion.reset_index(name='Missing_Proportion')"
   ]
  },
  {
   "cell_type": "code",
   "execution_count": null,
   "id": "90fc806f",
   "metadata": {},
   "outputs": [],
   "source": [
    "# Calculate missing proportion for both dataframes\n",
    "missing_proportion_2015 = compute_missing_proportion(df_2015)\n",
    "missing_proportion_2016 = compute_missing_proportion(df_2016)\n",
    "\n",
    "# Concatenate results from both years\n",
    "result_df = pd.concat([missing_proportion_2015, missing_proportion_2016], axis=0)\n",
    "result_df.head()\n",
    "# # Write the resulting dataframe to a CSV file\n",
    "# result_df.to_csv('missing_proportions.csv', index=False)\n",
    "\n"
   ]
  },
  {
   "cell_type": "code",
   "execution_count": null,
   "id": "b6a986ff",
   "metadata": {},
   "outputs": [],
   "source": []
  }
 ],
 "metadata": {
  "kernelspec": {
   "display_name": "Python 3 (ipykernel)",
   "language": "python",
   "name": "python3"
  },
  "language_info": {
   "codemirror_mode": {
    "name": "ipython",
    "version": 3
   },
   "file_extension": ".py",
   "mimetype": "text/x-python",
   "name": "python",
   "nbconvert_exporter": "python",
   "pygments_lexer": "ipython3",
   "version": "3.10.12"
  }
 },
 "nbformat": 4,
 "nbformat_minor": 5
}
