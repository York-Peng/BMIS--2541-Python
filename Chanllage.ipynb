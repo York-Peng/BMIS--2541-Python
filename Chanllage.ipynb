{
 "cells": [
  {
   "cell_type": "markdown",
   "id": "5eb8971d",
   "metadata": {},
   "source": [
    "# Exercise 1"
   ]
  },
  {
   "cell_type": "code",
   "execution_count": 1,
   "id": "12eb1e1b",
   "metadata": {},
   "outputs": [
    {
     "name": "stdout",
     "output_type": "stream",
     "text": [
      "please input a number:123123123\n",
      "odd count is: 6\n",
      "even count is: 3\n",
      "zero count is: 0\n"
     ]
    }
   ],
   "source": [
    "innput_content = input('please input a number:')\n",
    "\n",
    "odd_count = 0\n",
    "even_count = 0\n",
    "zero_count = 0\n",
    "\n",
    "\n",
    "for n in innput_content:\n",
    "    if n == '0':\n",
    "        zero_count += 1\n",
    "    elif int(n)%2 == 0:\n",
    "        even_count += 1\n",
    "    elif int(n)%2 != 0:\n",
    "        odd_count += 1\n",
    "\n",
    "        \n",
    "print('odd count is:',odd_count)\n",
    "print('even count is:',even_count)\n",
    "print('zero count is:',zero_count)"
   ]
  },
  {
   "cell_type": "markdown",
   "id": "6c2361df",
   "metadata": {},
   "source": [
    "# Exercise 2"
   ]
  },
  {
   "cell_type": "code",
   "execution_count": 2,
   "id": "9fab20b5",
   "metadata": {},
   "outputs": [],
   "source": [
    "def odd_even_process(input_num):\n",
    "    if input_num %2 == 0:\n",
    "        input_num = input_num // 2\n",
    "    else:\n",
    "        input_num = input_num * 3 + 1\n",
    "    print(int(input_num))\n",
    "    return input_num"
   ]
  },
  {
   "cell_type": "code",
   "execution_count": 3,
   "id": "97159c2e",
   "metadata": {},
   "outputs": [
    {
     "name": "stdout",
     "output_type": "stream",
     "text": [
      "please input a number:4\n",
      "4\n",
      "2\n",
      "1\n",
      "4\n",
      "2\n",
      "1\n",
      "The programming is finish\n"
     ]
    }
   ],
   "source": [
    "input_num = int(input('please input a number:'))\n",
    "\n",
    "while input_num == 0:\n",
    "    input_num = int(input('please input a positive number:'))\n",
    "\n",
    "    \n",
    "result_list = []\n",
    "result_list.append(input_num)\n",
    "print(input_num)\n",
    "while len(result_list) < 6:\n",
    "    input_num  = odd_even_process(input_num)\n",
    "    result_list.append(input_num)\n",
    "\n",
    "while result_list[-6:-3] != result_list[-3:]:\n",
    "    input_num = odd_even_process(input_num)\n",
    "    result_list.append(input_num)\n",
    "    \n",
    "    \n",
    "print('The programming is finish')    \n",
    "\n"
   ]
  },
  {
   "cell_type": "markdown",
   "id": "fa3909cc",
   "metadata": {},
   "source": [
    "# Exercise 3"
   ]
  },
  {
   "cell_type": "code",
   "execution_count": 4,
   "id": "23f6b422",
   "metadata": {},
   "outputs": [],
   "source": [
    "def input_seed_number():\n",
    "    seed_num_1 = int(input('please input a positive one digit number:'))\n",
    "    while seed_num_1 < 0 or seed_num_1 > 10:\n",
    "        seed_num_1 = int(input('please input a positive one digit number!!:'))\n",
    "        \n",
    "    seed_num_2 = int(input('please input another positive one digit number:'))\n",
    "    while seed_num_2 < 0 or seed_num_2 > 10:\n",
    "        seed_num_2 = int(input('please input another positive one digit number!!:'))\n",
    "    \n",
    "    return seed_num_1,seed_num_2"
   ]
  },
  {
   "cell_type": "code",
   "execution_count": 6,
   "id": "f1f3b892",
   "metadata": {},
   "outputs": [],
   "source": [
    "def necklace_array(seed_num_1,seed_num_2):\n",
    "    list_temp = [seed_num_1,seed_num_2]\n",
    "    n = 1\n",
    "    while len(list_temp) < 3 or list_temp[-2:] != list_temp[:2]:\n",
    "        new_number = list_temp[n] + list_temp[n-1]\n",
    "        if new_number >= 10:\n",
    "            new_number = new_number - 10\n",
    "        n += 1\n",
    "        list_temp.append(new_number)\n",
    "    return list_temp"
   ]
  },
  {
   "cell_type": "code",
   "execution_count": 7,
   "id": "5b052409",
   "metadata": {},
   "outputs": [
    {
     "name": "stdout",
     "output_type": "stream",
     "text": [
      "please input a positive one digit number:1\n",
      "please input another positive one digit number:8\n",
      "[1, 8, 9, 7, 6, 3, 9, 2, 1, 3, 4, 7, 1, 8]\n"
     ]
    }
   ],
   "source": [
    "seed_1, seed_2 = input_seed_number()\n",
    "print(necklace_array(seed_1, seed_2))"
   ]
  },
  {
   "cell_type": "markdown",
   "id": "7a58c35f",
   "metadata": {},
   "source": [
    "# Exercise 4"
   ]
  },
  {
   "cell_type": "code",
   "execution_count": 9,
   "id": "bcf32e5e",
   "metadata": {},
   "outputs": [],
   "source": [
    "vowels_list = ['a','e','i','o','u']"
   ]
  },
  {
   "cell_type": "code",
   "execution_count": 10,
   "id": "e2ada2df",
   "metadata": {},
   "outputs": [],
   "source": [
    "def reverse_name(user_name):\n",
    "    \n",
    "    reverse_user_name = user_name[::-1]\n",
    "    vowels_count = 0\n",
    "    user_name_lower = user_name.lo\n",
    "    for x in user_name:\n",
    "        if x in vowels_list:\n",
    "            vowels_count += 1\n",
    "    return reverse_user_name,vowels_count"
   ]
  },
  {
   "cell_type": "code",
   "execution_count": 12,
   "id": "6ccf17db",
   "metadata": {},
   "outputs": [
    {
     "name": "stdout",
     "output_type": "stream",
     "text": [
      "please input your name here:Peng\n",
      "Peng  &  gneP\n",
      "There are  1 vowels letter in the name\n"
     ]
    }
   ],
   "source": [
    "user_name = input('please input your name here:')\n",
    "reversed_name, vowels_count = reverse_name(user_name)\n",
    "print(user_name,' & ',reversed_name)\n",
    "print('There are ',vowels_count, 'vowels letter in the name')"
   ]
  },
  {
   "cell_type": "markdown",
   "id": "daab9a81",
   "metadata": {},
   "source": [
    "# Exercise 5"
   ]
  },
  {
   "cell_type": "code",
   "execution_count": 27,
   "id": "40112f2b",
   "metadata": {},
   "outputs": [],
   "source": [
    "def input_precipitation(month_name):\n",
    "    n = 0\n",
    "    pre_list = []\n",
    "    while n < 12:\n",
    "        alert = 'please input %s precipitation:'%month_name[n]\n",
    "        month_pre = int(input(alert))\n",
    "        pre_list.append(month_pre)\n",
    "        n += 1\n",
    "\n",
    "    return pre_list"
   ]
  },
  {
   "cell_type": "code",
   "execution_count": 28,
   "id": "db2e8c99",
   "metadata": {},
   "outputs": [
    {
     "name": "stdout",
     "output_type": "stream",
     "text": [
      "please input January precipitation:1\n",
      "please input February precipitation:2\n",
      "please input March precipitation:3\n",
      "please input April precipitation:4\n",
      "please input May precipitation:5\n",
      "please input June precipitation:6\n",
      "please input July precipitation:7\n",
      "please input August precipitation:8\n",
      "please input September precipitation:9\n",
      "please input October precipitation:10\n",
      "please input November precipitation:11\n",
      "please input December precipitation:12\n",
      "Total precipitation is: 78\n",
      "The average monthly precipitation is: 6.5\n",
      "The highest month is: December and the amounts of precipitation is: 12\n",
      "The lowest month is: January and the lowest amounts of precipitation 1\n"
     ]
    }
   ],
   "source": [
    "month_name = ['January','February','March','April','May','June','July','August','September','October','November','December']\n",
    "pre_list = input_precipitation(month_name)\n",
    "sum_pre = sum(pre_list)\n",
    "print('Total precipitation is:',sum_pre)\n",
    "\n",
    "ave_pre = sum_pre/12\n",
    "print('The average monthly precipitation is:',ave_pre)\n",
    "\n",
    "max_pre = max(pre_list)\n",
    "max_month = pre_list.index(max_pre)\n",
    "print('The highest month is:', month_name[max_month],'and the amounts of precipitation is:',max_pre)\n",
    "\n",
    "min_pre = min(pre_list)\n",
    "min_month = pre_list.index(min_pre)\n",
    "print('The lowest month is:', month_name[min_month],'and the lowest amounts of precipitation',min_pre)\n"
   ]
  },
  {
   "cell_type": "markdown",
   "id": "f3f710df",
   "metadata": {},
   "source": [
    "# Exercise 6"
   ]
  },
  {
   "cell_type": "code",
   "execution_count": 29,
   "id": "48ac6636",
   "metadata": {},
   "outputs": [],
   "source": [
    "import random"
   ]
  },
  {
   "cell_type": "code",
   "execution_count": 39,
   "id": "5ba62606",
   "metadata": {},
   "outputs": [],
   "source": [
    "def Rock_Paper_Scissors(choice):\n",
    "    user_choice = choice.lower()\n",
    "    choice_list = ['rock','paper','scissors']\n",
    "    computer_choice = random.choice(choice_list)\n",
    "    if user_choice == computer_choice:\n",
    "        return computer_choice,'It\\'s a draw!'\n",
    "    else:\n",
    "        if user_choice == 'rock':\n",
    "            if computer_choice == 'paper':\n",
    "                return computer_choice,'You Lose!'\n",
    "            else:\n",
    "                return computer_choice,'You Win!'\n",
    "        elif user_choice == 'paper':\n",
    "            if computer_choice == 'rock':\n",
    "                return computer_choice,'You Win!'\n",
    "            else:\n",
    "                return computer_choice,'You Lose!'\n",
    "        elif user_choice == 'scissors':\n",
    "            if computer_choice == 'rock':\n",
    "                return computer_choice,'You Lose!'\n",
    "            else:\n",
    "                return computer_choice,'You Win!'"
   ]
  },
  {
   "cell_type": "code",
   "execution_count": 41,
   "id": "a0531637",
   "metadata": {},
   "outputs": [
    {
     "name": "stdout",
     "output_type": "stream",
     "text": [
      "Please input rock or paper or scissorsrock\n",
      "The computer chooses: paper ,  You Lose!\n"
     ]
    }
   ],
   "source": [
    "choice = input('Please input rock or paper or scissors')\n",
    "computer_choice,result = Rock_Paper_Scissors(choice)\n",
    "\n",
    "print('The computer chooses:',computer_choice,', ',result)"
   ]
  },
  {
   "cell_type": "code",
   "execution_count": null,
   "id": "3d19f829",
   "metadata": {},
   "outputs": [],
   "source": []
  }
 ],
 "metadata": {
  "kernelspec": {
   "display_name": "Python 3 (ipykernel)",
   "language": "python",
   "name": "python3"
  },
  "language_info": {
   "codemirror_mode": {
    "name": "ipython",
    "version": 3
   },
   "file_extension": ".py",
   "mimetype": "text/x-python",
   "name": "python",
   "nbconvert_exporter": "python",
   "pygments_lexer": "ipython3",
   "version": "3.10.12"
  }
 },
 "nbformat": 4,
 "nbformat_minor": 5
}
