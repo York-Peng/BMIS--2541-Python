{
 "cells": [
  {
   "cell_type": "markdown",
   "id": "4c3d7cf9",
   "metadata": {},
   "source": [
    "# Exercise-1"
   ]
  },
  {
   "cell_type": "markdown",
   "id": "f55b4daf",
   "metadata": {},
   "source": [
    "+ Peng Yuan\n",
    "+ pey25@pitt.edu"
   ]
  },
  {
   "cell_type": "markdown",
   "id": "321310e5",
   "metadata": {},
   "source": [
    "# Exercise-2"
   ]
  },
  {
   "cell_type": "code",
   "execution_count": 9,
   "id": "b4904da0",
   "metadata": {},
   "outputs": [
    {
     "name": "stdout",
     "output_type": "stream",
     "text": [
      "please input the first number:1\n",
      "please input the second number:2\n",
      "please input the third number:3\n",
      "The average number is: 2.0\n"
     ]
    }
   ],
   "source": [
    "a = float(input(\"please input the first number:\"))\n",
    "b = float(input(\"please input the second number:\"))\n",
    "c = float(input(\"please input the third number:\"))\n",
    "d = (a+b+c) / 3\n",
    "print('The average number is:',d)"
   ]
  },
  {
   "cell_type": "markdown",
   "id": "62cd1d6e",
   "metadata": {},
   "source": [
    "# Exercise-3"
   ]
  },
  {
   "cell_type": "code",
   "execution_count": 32,
   "id": "38bd55f0",
   "metadata": {},
   "outputs": [
    {
     "name": "stdout",
     "output_type": "stream",
     "text": [
      "please input the first number:1\n",
      "please input the second number:1\n",
      "please re-input the second number,because the number have been exists:3\n",
      "please input the third number:4\n",
      "The average number is: 2.6666666666666665\n"
     ]
    }
   ],
   "source": [
    "list1 = []\n",
    "a = float(input(\"please input the first number:\"))\n",
    "list1.append(a)\n",
    "b = float(input(\"please input the second number:\"))\n",
    "\n",
    "\n",
    "while b in list1:\n",
    "    b = float(input(\"please re-input the second number,because the number have been exists:\"))\n",
    "list1.append(b)\n",
    "\n",
    "c = float(input(\"please input the third number:\"))\n",
    "\n",
    "while c in list1:\n",
    "    c = float(input(\"please re-input the third number,because the number have been exists:\"))\n",
    "list1.append(c)\n",
    "\n",
    "\n",
    "d = sum(list1) / len(list1)\n",
    "print('The average number is:',d)"
   ]
  },
  {
   "cell_type": "markdown",
   "id": "8078316a",
   "metadata": {},
   "source": [
    "# Exercise-4"
   ]
  },
  {
   "cell_type": "code",
   "execution_count": 20,
   "id": "de4bb3fb",
   "metadata": {},
   "outputs": [],
   "source": [
    "def input_fun():\n",
    "    list1 = []\n",
    "    a = float(input(\"please input the first number:\"))\n",
    "    b = float(input(\"please input the second number:\"))\n",
    "    c = float(input(\"please input the third number:\"))\n",
    "    list1.append(a)\n",
    "    list1.append(b)\n",
    "    list1.append(c)\n",
    "    return list1"
   ]
  },
  {
   "cell_type": "code",
   "execution_count": 28,
   "id": "36b19b42",
   "metadata": {},
   "outputs": [],
   "source": [
    "def check_duplicate(list1):\n",
    "    while list1[1] == list1[0] or list1[1] == list1[2]:\n",
    "        print(\"the number %s is repeated\"%list1[1])\n",
    "        list1[1] = float(input(\"please change a number:\"))\n",
    "    while list1[2] == list1[0] or list1[1] == list1[2]:\n",
    "        print(\"the number %s is repeated\"%list1[2])\n",
    "        list1[2] = float(input(\"please change a number:\"))\n",
    "    return list1"
   ]
  },
  {
   "cell_type": "code",
   "execution_count": 31,
   "id": "b700f15f",
   "metadata": {},
   "outputs": [],
   "source": [
    "def cal_avg(list1):\n",
    "    print(\"the final result is:\",sum(list1) / len(list1))"
   ]
  },
  {
   "cell_type": "code",
   "execution_count": 30,
   "id": "5fd490a0",
   "metadata": {},
   "outputs": [
    {
     "name": "stdout",
     "output_type": "stream",
     "text": [
      "please input the first number:1\n",
      "please input the second number:1\n",
      "please input the third number:1\n",
      "the number 1.0 is repeated\n",
      "please change a number:1\n",
      "the number 1.0 is repeated\n",
      "please change a number:1\n",
      "the number 1.0 is repeated\n",
      "please change a number:1\n",
      "the number 1.0 is repeated\n",
      "please change a number:1\n",
      "the number 1.0 is repeated\n",
      "please change a number:2\n",
      "the number 1.0 is repeated\n",
      "please change a number:2\n",
      "the number 2.0 is repeated\n",
      "please change a number:2\n",
      "the number 2.0 is repeated\n",
      "please change a number:3\n",
      "2.0\n"
     ]
    }
   ],
   "source": [
    "list1 = input_fun()\n",
    "list1 = check_duplicate(list1)\n",
    "cal_avg(list1)"
   ]
  },
  {
   "cell_type": "code",
   "execution_count": null,
   "id": "7c568113",
   "metadata": {},
   "outputs": [],
   "source": []
  }
 ],
 "metadata": {
  "kernelspec": {
   "display_name": "Python 3 (ipykernel)",
   "language": "python",
   "name": "python3"
  },
  "language_info": {
   "codemirror_mode": {
    "name": "ipython",
    "version": 3
   },
   "file_extension": ".py",
   "mimetype": "text/x-python",
   "name": "python",
   "nbconvert_exporter": "python",
   "pygments_lexer": "ipython3",
   "version": "3.10.12"
  }
 },
 "nbformat": 4,
 "nbformat_minor": 5
}
