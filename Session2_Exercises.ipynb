{
 "cells": [
  {
   "cell_type": "markdown",
   "metadata": {
    "id": "FgVTvJAHlqQQ"
   },
   "source": [
    "<a id='section_id0'></a>\n",
    "### Session-2 Exercises:\n",
    "`Note`: There are many ways to solve these questions. \n",
    "***\n"
   ]
  },
  {
   "cell_type": "code",
   "execution_count": 1,
   "metadata": {
    "id": "y7g9h7hflqQU"
   },
   "outputs": [],
   "source": [
    "import pandas as pd\n",
    "import numpy as np"
   ]
  },
  {
   "cell_type": "markdown",
   "metadata": {
    "id": "0-LCO8TIlqQV"
   },
   "source": [
    "***\n",
    "<a id='section_id-ex1'></a>\n",
    "### <span style=\"background-color:#CCFFCC\">Class Exercise-1: Read and Describe CSV file using Pandas</span>\n",
    "* Insert a new markdown cell in the notebook and type in the header \"Exercise-1\".\n",
    "* Read the soybean.csv file through Pandas as a dataframe\n",
    "> Hint: Use pd.read_csv()\n",
    "\n",
    "* Recreate the steps you learned to peek into the dataframe and describe it (head, tail, shape, info, summary statistics) \n",
    "> Hint: Use data.head(), data.tail(), data.shape, data.info(), data.column, list(data.columns), data.describe()\n",
    "***\n",
    "<div style=\"text-align: right\"> <a href='#section_id0'>Back to top of Notebook</a></div>"
   ]
  },
  {
   "cell_type": "code",
   "execution_count": null,
   "metadata": {},
   "outputs": [],
   "source": []
  },
  {
   "cell_type": "markdown",
   "metadata": {
    "id": "wetMoBcMlqQa"
   },
   "source": [
    "***\n",
    "<a id='section_id-ex2'></a>\n",
    "### <span style=\"background-color:#CCFFCC\">Class Exercise-2: Pandas Selection</span>\n",
    "* Insert a new markdown cell in the notebook and type in the header \"Exercise-2\".\n",
    "* List all the columns in the soybean dataframe you used in Exercise-1\n",
    "> Hint: Use data.columns\n",
    "* Try different ways of displaying rows 23-36 and columns 6-12\n",
    "> Hint: Try data.iloc[ ] and data.loc[ ]\n",
    "* Display the records where temp is 1.0, severity is 2.0, and fruitspots is either 4.0 or 0\n",
    "> Hint: Use data[(condition 1)&(condition 2)&(condition 3)].\n",
    "\n",
    "***\n",
    "<div style=\"text-align: right\"> <a href='#section_id0'>Back to top of Notebook</a></div>"
   ]
  },
  {
   "cell_type": "markdown",
   "metadata": {
    "id": "8-Dchi7mlqQe"
   },
   "source": [
    "***\n",
    "<a id='section_id-ex3'></a>\n",
    "### <span style=\"background-color:#CCFFCC\">Class Exercise-3: Column manipulations</span>\n",
    "* Insert a new markdown cell in the notebook and type in the header \"Exercise-3\".\n",
    "* Insert a new column called \"leaf_disease\" in the soybean dataframe. The new column is sum of the values in all these other leaf-related columns: \"leaves\", \"leafspots-halo\", \"leafspots-marg\", \"leafspot-size\", \"leaf-shread\", \"leaf-malf\", \"leaf-mild\".\n",
    "> Hint: Create a list of selected columns and use: data[selected_columns].sum(axis=1).\n",
    "* Insert a new column called \"leaf_category\" in the soybean dataframe. The new column should have the categories low, medium, and high depending on the value of the leaf_disease column (low:<2, medium:2-5, high:>5). \n",
    "> Hint: Use bins = [0,2,5,7], bin_names = ['low', 'medium', 'high'] and pd.cut(column_to_bin,bins,labels=bin_names)\n",
    "* Store the new dataframe as a csv file in your present working directory.\n",
    "> Hint: Use data.to_csv('file_name.csv', index = False, na_rep = '?')\n",
    "* Delete the two new columns you had created in the dataframe.\n",
    "> Hint: Use data.drop(columns=list_of_newly_added_columns, inplace=True)\n",
    "\n",
    "***\n",
    "<div style=\"text-align: right\"> <a href='#section_id0'>Back to top of Notebook</a></div>"
   ]
  },
  {
   "cell_type": "markdown",
   "metadata": {
    "id": "aaoFbG14lqQg"
   },
   "source": [
    "***\n",
    "<a id='section_id-ex4'></a>\n",
    "### <span style=\"background-color:#CCFFCC\">Class Exercise-4: Applying Functions</span>\n",
    "* Insert a new markdown cell in the notebook and type in the header \"Exercise-4\".\n",
    "* Insert a new column called \"disease_average\" in the soybean dataframe. The new column is the average of the values of the columns starting with \"area-damaged\" until the column (inclusive of) \"sclerotia\".\n",
    "> Hint: Use data.mean(axis=1)\n",
    "* Sort the dataframe in descending order of the values in the new column you created (\"disease_average\")\n",
    "> Hint: Use data.sort_values(by='variable_to_sort', ascending=False)\n",
    "***\n",
    "<div style=\"text-align: right\"> <a href='#section_id0'>Back to top of Notebook</a></div>"
   ]
  },
  {
   "cell_type": "markdown",
   "metadata": {
    "id": "HBd0a1GOlqQi"
   },
   "source": [
    "***\n",
    "<a id='section_id-ex5'></a>\n",
    "### <span style=\"background-color:#CCFFCC\">Class Exercise-5: Grouping</span>\n",
    "* Insert a new markdown cell in the notebook and type in the header \"Exercise-5\".\n",
    "* Insert a new column called \"disease_category\" in the soybean dataframe. The new column should have the categories low, medium, and high depending on the value of the disease_average column (low:<0.5, medium:0.5-1, high:>1).\n",
    "> Hint: Use bins1 = [0,0.499,1,2], bin_names1 = ['low', 'medium', 'high'] and  pd.cut(variable,bins1,labels=bin_names1)\n",
    "* Count the number of records per the \"disease_category\" column and display the counts.\n",
    "> Hint: Use data.groupby('variable_to_group'). Then, use count().\n",
    "* How many records in each of the disease categories (low, medium, high) are treated for seed disease (i.e., seed-tmt is 1)?\n",
    "* Create a pivot table to display the average value of \"area-damaged\" for each of the disease categories (low, medium, high) and seed treatment status (\"seed-tmt\"). \n",
    "***\n",
    "<div style=\"text-align: right\"> <a href='#section_id0'>Back to top of Notebook</a></div>"
   ]
  },
  {
   "cell_type": "markdown",
   "metadata": {
    "id": "Z-u11WxPlqQk"
   },
   "source": [
    "***\n",
    "<a id='section_id-ex6'></a>\n",
    "### <span style=\"background-color:#CCFFCC\">Class Exercise-6: Missing records and duplicates</span>\n",
    "* Insert a new markdown cell in the notebook and type in the header \"Exercise-6\".\n",
    "* Explore the presence of missing values and duplicates in the `adult.csv` dataset.\n",
    "> Hint: (i) Use data.isna().sum() to identify the variables with missing values.\n",
    "(ii) Use dfAdults.info() to identify the type of variables with missing values. \n",
    "(iii) If the variable with missing values are object type variables, then find the \"mode\" (most frequent value) of the variable using data.variable_with_missing_values.mode() and replace the missing values by mode using \n",
    "* Replace the missing values in each of columns of the adult dataframe with respective median/mode values\n",
    "> Hint: Use data.fillna({'value_to_replace' : 'value_to_replace_with'}, inplace=True)\n",
    "***\n",
    "<div style=\"text-align: right\"> <a href='#section_id0'>Back to top of Notebook</a></div>"
   ]
  }
 ],
 "metadata": {
  "colab": {
   "provenance": []
  },
  "kernelspec": {
   "display_name": "Python 3 (ipykernel)",
   "language": "python",
   "name": "python3"
  },
  "language_info": {
   "codemirror_mode": {
    "name": "ipython",
    "version": 3
   },
   "file_extension": ".py",
   "mimetype": "text/x-python",
   "name": "python",
   "nbconvert_exporter": "python",
   "pygments_lexer": "ipython3",
   "version": "3.10.12"
  }
 },
 "nbformat": 4,
 "nbformat_minor": 1
}
